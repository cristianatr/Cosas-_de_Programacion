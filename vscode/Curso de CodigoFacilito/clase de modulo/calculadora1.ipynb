{
 "metadata": {
  "language_info": {
   "codemirror_mode": {
    "name": "ipython",
    "version": 3
   },
   "file_extension": ".py",
   "mimetype": "text/x-python",
   "name": "python",
   "nbconvert_exporter": "python",
   "pygments_lexer": "ipython3",
   "version": "3.8.5-final"
  },
  "orig_nbformat": 2,
  "kernelspec": {
   "name": "python3",
   "display_name": "Python 3",
   "language": "python"
  }
 },
 "nbformat": 4,
 "nbformat_minor": 2,
 "cells": [
  {
   "cell_type": "code",
   "execution_count": 3,
   "metadata": {},
   "outputs": [
    {
     "output_type": "stream",
     "name": "stdout",
     "text": [
      "3\n"
     ]
    }
   ],
   "source": [
    "import operaciones\n",
    "\n",
    "resultado = operaciones.suma(2,1)\n",
    "print(resultado)"
   ]
  },
  {
   "cell_type": "code",
   "execution_count": 6,
   "metadata": {},
   "outputs": [
    {
     "output_type": "stream",
     "name": "stdout",
     "text": [
      "5\n"
     ]
    }
   ],
   "source": [
    "from operaciones import suma\n",
    "\n",
    "resultado = suma(2,3)\n",
    "\n",
    "print(resultado)"
   ]
  },
  {
   "cell_type": "code",
   "execution_count": 7,
   "metadata": {},
   "outputs": [
    {
     "output_type": "stream",
     "name": "stdout",
     "text": [
      "5\n"
     ]
    }
   ],
   "source": [
    "from operaciones import *\n",
    "\n",
    "resultado = suma(2,3)\n",
    "\n",
    "print(resultado)"
   ]
  },
  {
   "cell_type": "code",
   "execution_count": 8,
   "metadata": {},
   "outputs": [
    {
     "output_type": "stream",
     "name": "stdout",
     "text": [
      "Help on module operaciones:\n\nNAME\n    operaciones\n\nFUNCTIONS\n    division(op1, op2)\n        Regresa un nuemero Real el cual es el resultado de una division\n    \n    multiplicacion(op1, op2)\n        Regresa un nuemero entero el cual es el resultado de una multiplicacion\n    \n    resta(op1, op2)\n        Regresa un nuemero entero el cual es el resultado de una resta\n    \n    suma(op1, op2)\n        Regresa un nuemero entero el cual es el resultado de una suma\n\nFILE\n    c:\\users\\cristian\\onedrive\\escritorio\\python vscode\\.vscode\\curso de codigofacilito\\clase de modulo\\operaciones.py\n\n\n"
     ]
    }
   ],
   "source": [
    "import operaciones\n",
    "\n",
    "help(operaciones)"
   ]
  },
  {
   "cell_type": "code",
   "execution_count": null,
   "metadata": {},
   "outputs": [],
   "source": []
  }
 ]
}