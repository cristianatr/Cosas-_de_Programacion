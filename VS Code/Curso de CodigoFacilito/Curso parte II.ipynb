{
 "metadata": {
  "language_info": {
   "codemirror_mode": {
    "name": "ipython",
    "version": 3
   },
   "file_extension": ".py",
   "mimetype": "text/x-python",
   "name": "python",
   "nbconvert_exporter": "python",
   "pygments_lexer": "ipython3",
   "version": "3.8.5-final"
  },
  "orig_nbformat": 2,
  "kernelspec": {
   "name": "python3",
   "display_name": "Python 3",
   "language": "python"
  }
 },
 "nbformat": 4,
 "nbformat_minor": 2,
 "cells": [
  {
   "source": [
    "# Argumentos"
   ],
   "cell_type": "markdown",
   "metadata": {}
  },
  {
   "cell_type": "code",
   "execution_count": 1,
   "metadata": {},
   "outputs": [
    {
     "output_type": "stream",
     "name": "stdout",
     "text": [
      "60\n"
     ]
    }
   ],
   "source": [
    "def suma(op1, op2):\n",
    "    return op1 + op2\n",
    "\n",
    "resultado = suma(10, 50)\n",
    "print(resultado)"
   ]
  },
  {
   "cell_type": "code",
   "execution_count": 11,
   "metadata": {},
   "outputs": [
    {
     "output_type": "stream",
     "name": "stdout",
     "text": [
      "81\n"
     ]
    }
   ],
   "source": [
    "def suma(*args):\n",
    "    result = 0\n",
    "    for valor in args:\n",
    "        result = result + valor\n",
    "    return result\n",
    "\n",
    "\n",
    "resultado = suma(10, 50, 4, 3, 2, 3, 9)\n",
    "print(resultado)"
   ]
  },
  {
   "cell_type": "code",
   "execution_count": 14,
   "metadata": {},
   "outputs": [
    {
     "output_type": "stream",
     "name": "stdout",
     "text": [
      "Eduardo\nNone\n"
     ]
    }
   ],
   "source": [
    "def suma(**kwargs):\n",
    "    valor = kwargs.get('valor', 'No se encuentra')\n",
    "    print(valor)\n",
    "    '''\n",
    "    * -> n valores -> tuplas\n",
    "    ** -> n valores -> diccionario\n",
    "    '''\n",
    "\n",
    "\n",
    "\n",
    "resultado = suma(valor = 'Eduardo', x = 2, y = 9, z = True)\n",
    "print(resultado)"
   ]
  },
  {
   "cell_type": "code",
   "execution_count": 15,
   "metadata": {},
   "outputs": [
    {
     "output_type": "stream",
     "name": "stdout",
     "text": [
      "Help on function suma in module __main__:\n\nsuma(**kwargs)\n\n"
     ]
    }
   ],
   "source": [
    "help(suma)"
   ]
  },
  {
   "source": [
    "# Lambdas"
   ],
   "cell_type": "markdown",
   "metadata": {}
  },
  {
   "cell_type": "code",
   "execution_count": 26,
   "metadata": {},
   "outputs": [
    {
     "output_type": "stream",
     "name": "stdout",
     "text": [
      "5\n\n¿Puedes hacer esto una pregunta?\n\n10\n\nDeben de ejecutar una accion\nNone\n"
     ]
    }
   ],
   "source": [
    "#def suma(op1, op2):\n",
    "    #return op1 + op2\n",
    "\n",
    "mi_funcion = lambda op1, op2: op1 + op2\n",
    "\n",
    "resultado = mi_funcion(2,3)\n",
    "print(resultado)\n",
    "\n",
    "print('')\n",
    "\n",
    "formato = lambda sentencia : '¿{}?'.format(sentencia)\n",
    "resultado = formato('Puedes hacer esto una pregunta')\n",
    "print(resultado)\n",
    "\n",
    "print('')\n",
    "\n",
    "no_valor = lambda : 10\n",
    "resultado = no_valor()\n",
    "print(resultado)\n",
    "\n",
    "print('')\n",
    "\n",
    "no_resultado = lambda : print('Deben de ejecutar una accion')\n",
    "no_resultado = no_resultado()\n",
    "print(no_resultado)"
   ]
  },
  {
   "source": [
    "# Funciones Anidadas"
   ],
   "cell_type": "markdown",
   "metadata": {}
  },
  {
   "cell_type": "code",
   "execution_count": 32,
   "metadata": {},
   "outputs": [
    {
     "output_type": "stream",
     "name": "stdout",
     "text": [
      "El print tambien es una funcion\n5.0\n"
     ]
    }
   ],
   "source": [
    "#def validacion(op1, op2):\n",
    "    #return op1 > 0 and op2 > 0              #Tareas muy complejas\n",
    "\n",
    "def division(op1, op2):\n",
    "    def validacion():\n",
    "        return op1 > 0 and op2 > 0\n",
    "\n",
    "    print('El print tambien es una funcion')\n",
    "    if validacion():                #llamado de funciones\n",
    "        return op1 / op2\n",
    "\n",
    "resultado = division(10, 2)\n",
    "print(resultado)"
   ]
  },
  {
   "cell_type": "code",
   "execution_count": 41,
   "metadata": {},
   "outputs": [
    {
     "output_type": "stream",
     "name": "stdout",
     "text": [
      "Se ejecuta validacion\nTrue\n"
     ]
    }
   ],
   "source": [
    "def crear_fucion(op1, op2):\n",
    "    def validacion():\n",
    "        print('Se ejecuta validacion')\n",
    "        return op1 > 0 and op2 > 0\n",
    "    return validacion\n",
    "\n",
    "def aplicar_funcion(func):\n",
    "    resultado = func()\n",
    "    print(resultado)\n",
    "\n",
    "nueva_funcion = crear_fucion(10,5)\n",
    "aplicar_funcion(nueva_funcion)"
   ]
  },
  {
   "source": [
    "# Decoradores"
   ],
   "cell_type": "markdown",
   "metadata": {}
  },
  {
   "cell_type": "code",
   "execution_count": 43,
   "metadata": {},
   "outputs": [
    {
     "output_type": "stream",
     "name": "stdout",
     "text": [
      "Hola Mundo\n"
     ]
    }
   ],
   "source": [
    "def saluda():\n",
    "    print('Hola Mundo')\n",
    "\n",
    "# A , B , C son funciones\n",
    "# A recibe como parametro B para poder crear C\n",
    "saluda()"
   ]
  },
  {
   "cell_type": "code",
   "execution_count": 63,
   "metadata": {},
   "outputs": [
    {
     "output_type": "stream",
     "name": "stdout",
     "text": [
      "\n"
     ]
    },
    {
     "output_type": "error",
     "ename": "TypeError",
     "evalue": "_decorador() takes 1 positional argument but 2 were given",
     "traceback": [
      "\u001b[1;31m---------------------------------------------------------------------------\u001b[0m",
      "\u001b[1;31mTypeError\u001b[0m                                 Traceback (most recent call last)",
      "\u001b[1;32m<ipython-input-63-25d40527e1f1>\u001b[0m in \u001b[0;36m<module>\u001b[1;34m\u001b[0m\n\u001b[0;32m     30\u001b[0m \u001b[0mprint\u001b[0m\u001b[1;33m(\u001b[0m\u001b[1;34m''\u001b[0m\u001b[1;33m)\u001b[0m\u001b[1;33m\u001b[0m\u001b[1;33m\u001b[0m\u001b[0m\n\u001b[0;32m     31\u001b[0m \u001b[1;33m\u001b[0m\u001b[0m\n\u001b[1;32m---> 32\u001b[1;33m \u001b[0msuma\u001b[0m\u001b[1;33m(\u001b[0m\u001b[1;36m1\u001b[0m\u001b[1;33m,\u001b[0m\u001b[1;36m2\u001b[0m\u001b[1;33m)\u001b[0m\u001b[1;33m\u001b[0m\u001b[1;33m\u001b[0m\u001b[0m\n\u001b[0m\u001b[0;32m     33\u001b[0m \u001b[1;33m\u001b[0m\u001b[0m\n\u001b[0;32m     34\u001b[0m \u001b[0mprint\u001b[0m\u001b[1;33m(\u001b[0m\u001b[1;34m''\u001b[0m\u001b[1;33m)\u001b[0m\u001b[1;33m\u001b[0m\u001b[1;33m\u001b[0m\u001b[0m\n",
      "\u001b[1;31mTypeError\u001b[0m: _decorador() takes 1 positional argument but 2 were given"
     ]
    }
   ],
   "source": [
    "def decorador(is_valid):\n",
    "\n",
    "    def _decorador(func):   #A, B\n",
    "        def before_action():\n",
    "            print('Vamos a ejecutar la funcion')\n",
    "\n",
    "        def after_action():\n",
    "            print('Se ejecuto la funcion')\n",
    "\n",
    "        def nueva_funcion(*args,**kwargs):\n",
    "            if is_valid:\n",
    "                before_action()\n",
    "            resultado = func(*args,**kwargs)\n",
    "            after_action()          \n",
    "            return resultado\n",
    "\n",
    "        return nueva_funcion  #C\n",
    "    return _decorador\n",
    "\n",
    "@decorador\n",
    "def saluda():\n",
    "    print('Hola Mundo')\n",
    "\n",
    "@decorador\n",
    "def suma(op1, op2):\n",
    "    print(op1 + op2)\n",
    "\n",
    "saluda(True)\n",
    "\n",
    "print('')\n",
    "\n",
    "suma(1,2)\n",
    "\n",
    "print('')\n",
    "\n",
    "resultado = suma(85,18)\n",
    "print(resultado)\n"
   ]
  },
  {
   "source": [
    "# Generadores"
   ],
   "cell_type": "markdown",
   "metadata": {}
  },
  {
   "cell_type": "code",
   "execution_count": 68,
   "metadata": {},
   "outputs": [
    {
     "output_type": "stream",
     "name": "stdout",
     "text": [
      "10 True\n20 True\n30 True\n40 True\n50 True\n60 True\n70 True\n80 True\n90 True\n"
     ]
    }
   ],
   "source": [
    "def generador(*args):\n",
    "    for valor in args:\n",
    "        yield valor * 10, True\n",
    "\n",
    "for valor, k in generador(1, 2, 3, 4, 5, 6, 7, 8, 9):\n",
    "    print(valor, k)\n",
    "\n"
   ]
  },
  {
   "source": [
    "def generador(*args):\n",
    "    '''recibe n cantidaes de numeros y resgresa el numero el numero ademas de regresar True o False si el numero es mayor a 5'''\n",
    "    for valor in args:\n",
    "        yield valor * 10, True\n",
    "\n",
    "for valor, k in generador(1, 2, 3, 4, 5, 6, 7, 8, 9):\n",
    "    print(valor, k)\n",
    "print('')\n",
    "\n",
    "nombre = generador.__name__\n",
    "documentacion = generador.__doc__\n",
    "print(nombre, ';')\n",
    "print(documentacion)"
   ],
   "cell_type": "code",
   "metadata": {},
   "execution_count": 74,
   "outputs": [
    {
     "output_type": "stream",
     "name": "stdout",
     "text": [
      "10 True\n20 True\n30 True\n40 True\n50 True\n60 True\n70 True\n80 True\n90 True\n\ngenerador ;\nrecibe n cantidaes de numeros y resgresa el numero el numero ademas de regresar True o False si el numero es mayor a 5\n"
     ]
    }
   ]
  },
  {
   "cell_type": "code",
   "execution_count": 70,
   "metadata": {},
   "outputs": [
    {
     "output_type": "stream",
     "name": "stdout",
     "text": [
      "Help on function generador in module __main__:\n\ngenerador(*args)\n    recibe n cantidaes de numeros y resgresa el numero el numero ademas de regresar True o False si el numero es mayor a 5\n\n"
     ]
    }
   ],
   "source": [
    "help(generador)"
   ]
  },
  {
   "source": [
    "# Librerias"
   ],
   "cell_type": "markdown",
   "metadata": {}
  },
  {
   "source": [
    "## random"
   ],
   "cell_type": "markdown",
   "metadata": {}
  },
  {
   "source": [
    "import random\n",
    "\n",
    "valor = random.randint(0,10)\n",
    "print(valor)\n",
    "\n",
    "lista = [True, 'String', 23, False]\n",
    "valor = random.choices(lista)\n",
    "print(valor)\n",
    "\n",
    "lista = [True, 'String', 23, False]\n",
    "random.shuffle(lista)\n",
    "print(lista)"
   ],
   "cell_type": "code",
   "metadata": {},
   "execution_count": null,
   "outputs": []
  },
  {
   "source": [
    "## datetime"
   ],
   "cell_type": "markdown",
   "metadata": {}
  },
  {
   "cell_type": "code",
   "execution_count": 8,
   "metadata": {},
   "outputs": [
    {
     "output_type": "stream",
     "name": "stdout",
     "text": [
      "2021-01-04 13:14:25.912872\n"
     ]
    }
   ],
   "source": [
    "import datetime\n",
    "print(datetime.datetime.now())"
   ]
  },
  {
   "source": [
    "## sys"
   ],
   "cell_type": "markdown",
   "metadata": {}
  },
  {
   "cell_type": "code",
   "execution_count": 13,
   "metadata": {},
   "outputs": [
    {
     "output_type": "stream",
     "name": "stdout",
     "text": [
      "99 %"
     ]
    }
   ],
   "source": [
    "import sys\n",
    "import time\n",
    "\n",
    "for i in range(100):\n",
    "    time.sleep(0.5)\n",
    "    sys.stdout.write('\\r%d %%'%i)\n",
    "    sys.stdout.flush()"
   ]
  },
  {
   "source": [
    "# Exsepciones\n"
   ],
   "cell_type": "markdown",
   "metadata": {}
  },
  {
   "cell_type": "code",
   "execution_count": 21,
   "metadata": {},
   "outputs": [
    {
     "output_type": "stream",
     "name": "stdout",
     "text": [
      "division by zero\nNo se puede dividir por cero \nSe termino el script\n"
     ]
    }
   ],
   "source": [
    "try:\n",
    "    print(2/0)\n",
    "except ZeroDivisionError as ex:\n",
    "    print(ex)\n",
    "    print('No se puede dividir por cero ')\n",
    "    #funciones\n",
    "    #clases\n",
    "    # etc..\n",
    "    \n",
    "print('Se termino el script')"
   ]
  },
  {
   "cell_type": "code",
   "execution_count": 23,
   "metadata": {},
   "outputs": [
    {
     "output_type": "stream",
     "name": "stdout",
     "text": [
      "list index out of range\nNo se puede dividir por cero\nSe termino...\n"
     ]
    }
   ],
   "source": [
    "try:\n",
    "    lista = [1, 2]\n",
    "    print(lista[9])\n",
    "except IndexError as ex:\n",
    "    print(ex)\n",
    "    print('No se puede dividir por cero')\n",
    "\n",
    "print('Se termino...')"
   ]
  },
  {
   "cell_type": "code",
   "execution_count": 25,
   "metadata": {},
   "outputs": [
    {
     "output_type": "stream",
     "name": "stdout",
     "text": [
      "list index out of range\nNo se que paso pero ago malo paso\nSe termino...\n"
     ]
    }
   ],
   "source": [
    "try:\n",
    "    lista = [1, 2]\n",
    "    print(lista[9])\n",
    "except Exception as ex:\n",
    "    print(ex)\n",
    "    print('No se que paso pero ago malo paso')\n",
    "\n",
    "finally:\n",
    "    print('Se termino...')"
   ]
  },
  {
   "cell_type": "code",
   "execution_count": null,
   "metadata": {},
   "outputs": [],
   "source": []
  }
 ]
}