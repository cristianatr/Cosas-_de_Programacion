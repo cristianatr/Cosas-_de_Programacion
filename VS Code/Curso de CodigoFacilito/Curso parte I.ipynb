{
 "metadata": {
  "language_info": {
   "codemirror_mode": {
    "name": "ipython",
    "version": 3
   },
   "file_extension": ".py",
   "mimetype": "text/x-python",
   "name": "python",
   "nbconvert_exporter": "python",
   "pygments_lexer": "ipython3",
   "version": "3.8.5-final"
  },
  "orig_nbformat": 2,
  "kernelspec": {
   "name": "python3",
   "display_name": "Python 3",
   "language": "python"
  }
 },
 "nbformat": 4,
 "nbformat_minor": 2,
 "cells": [
  {
   "source": [
    "## Lista de String"
   ],
   "cell_type": "markdown",
   "metadata": {}
  },
  {
   "cell_type": "code",
   "execution_count": 16,
   "metadata": {},
   "outputs": [
    {
     "output_type": "stream",
     "name": "stdout",
     "text": [
      "Curso de codigo Facilito\n24\notilicaF ogidoc ed osruC\n"
     ]
    }
   ],
   "source": [
    "my_string = 'Curso de codigo Facilito'\n",
    "\n",
    "print(my_string)\n",
    "print(len(my_string))\n",
    "print(my_string[::-1] )\n",
    "#for i in my_string:\n",
    "    #print(i)"
   ]
  },
  {
   "source": [
    "## Metodo de Stirng"
   ],
   "cell_type": "markdown",
   "metadata": {}
  },
  {
   "source": [
    "Metodo Format"
   ],
   "cell_type": "markdown",
   "metadata": {}
  },
  {
   "cell_type": "code",
   "execution_count": 18,
   "metadata": {},
   "outputs": [
    {
     "output_type": "stream",
     "name": "stdout",
     "text": [
      "Curso de Codigo Facilito\n"
     ]
    }
   ],
   "source": [
    "course = 'Curso'\n",
    "my_string = 'Codigo Facilito'\n",
    "result = '{} de {}'.format(course, my_string)\n",
    "print(result)"
   ]
  },
  {
   "cell_type": "code",
   "execution_count": 19,
   "metadata": {},
   "outputs": [
    {
     "output_type": "stream",
     "name": "stdout",
     "text": [
      "Curso de Codigo Facilito\n"
     ]
    }
   ],
   "source": [
    "course = 'Curso'\n",
    "my_string = 'Codigo Facilito'\n",
    "result = '{a} de {b}'.format(a = course, b = my_string)\n",
    "print(result)"
   ]
  },
  {
   "source": [
    "Metodo lower"
   ],
   "cell_type": "markdown",
   "metadata": {}
  },
  {
   "cell_type": "code",
   "execution_count": 25,
   "metadata": {},
   "outputs": [
    {
     "output_type": "stream",
     "name": "stdout",
     "text": [
      "curso de codigo facilito\nCURSO DE CODIGO FACILITO\nCurso De Codigo Facilito\n"
     ]
    }
   ],
   "source": [
    "course = 'Curso'\n",
    "my_string = 'Codigo Facilito'\n",
    "result = '{a} de {b}'.format(a = course, b = my_string)\n",
    "result = result.lower() #convirte todos lo caracteres en minusculal\n",
    "print(result)\n",
    "result = result.upper() #Mayuscula\n",
    "print(result)\n",
    "result = result.title()\n",
    "print(result)"
   ]
  },
  {
   "source": [
    "Busqueda"
   ],
   "cell_type": "markdown",
   "metadata": {}
  },
  {
   "cell_type": "code",
   "execution_count": 31,
   "metadata": {},
   "outputs": [
    {
     "output_type": "stream",
     "name": "stdout",
     "text": [
      "9\nC\n"
     ]
    }
   ],
   "source": [
    "pos = result.find('Codigo')\n",
    "print(pos)\n",
    "print(result[9])"
   ]
  },
  {
   "cell_type": "code",
   "execution_count": 29,
   "metadata": {},
   "outputs": [
    {
     "output_type": "stream",
     "name": "stdout",
     "text": [
      "1\n"
     ]
    }
   ],
   "source": [
    "pos = result.find('Codigo')\n",
    "count = result.count('Codigo')\n",
    "\n",
    "print(count)"
   ]
  },
  {
   "source": [
    "Metodo de Sustitucion"
   ],
   "cell_type": "markdown",
   "metadata": {}
  },
  {
   "cell_type": "code",
   "execution_count": 39,
   "metadata": {},
   "outputs": [
    {
     "output_type": "stream",
     "name": "stdout",
     "text": [
      "Cursx De Cxdigx Facilitx\n['Curso', 'De', 'Codigo', 'Facilito']\n"
     ]
    }
   ],
   "source": [
    "pos = result.find('Codigo')\n",
    "count = result.count('Codigo')\n",
    "new_sting = result.replace('o', 'x')\n",
    "print(new_sting)\n",
    "new_sting = result.split(' ')\n",
    "print(new_sting)"
   ]
  },
  {
   "source": [
    "# Listas"
   ],
   "cell_type": "markdown",
   "metadata": {}
  },
  {
   "cell_type": "code",
   "execution_count": 45,
   "metadata": {},
   "outputs": [
    {
     "output_type": "stream",
     "name": "stdout",
     "text": [
      "['stirng', 15, 15.6, True, 6]\n['stirng', 'insert', 15, 15.6, True, 6]\n['stirng', 'insert', 15.6, True, 6]\n6\n['stirng', 'insert', 15.6, True]\n"
     ]
    }
   ],
   "source": [
    "my_list = ['stirng', 15, 15.6, True]\n",
    "\n",
    "#Para agregar elementos a una lista\n",
    "my_list.append(6)\n",
    "print(my_list)\n",
    "\n",
    "my_list.insert(1, 'insert')\n",
    "print(my_list)\n",
    "\n",
    "#Para remover elementos de una lista\n",
    "my_list.remove(15)\n",
    "print(my_list)\n",
    "\n",
    "last_value = my_list.pop()\n",
    "print(last_value)\n",
    "print(my_list)"
   ]
  },
  {
   "cell_type": "code",
   "execution_count": 48,
   "metadata": {},
   "outputs": [
    {
     "output_type": "stream",
     "name": "stdout",
     "text": [
      "[1, 9, 22, 6, 8, 65, 14, 99]\n[1, 6, 8, 9, 14, 22, 65, 99]\n[99, 65, 22, 14, 9, 8, 6, 1]\n"
     ]
    }
   ],
   "source": [
    "my_list = [1, 9, 22, 6, 8, 65, 14, 99]\n",
    "print(my_list)\n",
    "my_list.sort()\n",
    "print(my_list)\n",
    "my_list.sort(reverse = True)\n",
    "print(my_list)\n"
   ]
  },
  {
   "source": [
    "Union de 2 lista"
   ],
   "cell_type": "markdown",
   "metadata": {}
  },
  {
   "cell_type": "code",
   "execution_count": 50,
   "metadata": {},
   "outputs": [
    {
     "output_type": "stream",
     "name": "stdout",
     "text": [
      "[1, 9, 22, 6, 8, 65, 14, 99, [22, 23]]\n"
     ]
    }
   ],
   "source": [
    "my_list = [1, 9, 22, 6, 8, 65, 14, 99]\n",
    "my_list_two = [22, 23]\n",
    "my_list.append(my_list_two)\n",
    "print(my_list)"
   ]
  },
  {
   "source": [
    "# Tuplas"
   ],
   "cell_type": "markdown",
   "metadata": {}
  },
  {
   "cell_type": "code",
   "execution_count": 51,
   "metadata": {},
   "outputs": [
    {
     "output_type": "stream",
     "name": "stdout",
     "text": [
      "(1, 'strin', True)\n"
     ]
    }
   ],
   "source": [
    "my_tuple = (1,'strin', True)\n",
    "print(my_tuple)"
   ]
  },
  {
   "cell_type": "code",
   "execution_count": 55,
   "metadata": {},
   "outputs": [
    {
     "output_type": "stream",
     "name": "stdout",
     "text": [
      "True\n"
     ]
    }
   ],
   "source": [
    "my_tuple = (1,'strin', True)\n",
    "print(my_tuple[2])"
   ]
  },
  {
   "source": [
    "# Diccionario"
   ],
   "cell_type": "markdown",
   "metadata": {}
  },
  {
   "cell_type": "code",
   "execution_count": 60,
   "metadata": {},
   "outputs": [
    {
     "output_type": "stream",
     "name": "stdout",
     "text": [
      "{'a': False, '5': 'esto es un string', (1, 2): False}\n"
     ]
    }
   ],
   "source": [
    "diccionario = {'a' : True, '5' : 'esto es un string', (1,2) : False, 'a' : 100, 'a' : False}\n",
    "print(diccionario)"
   ]
  },
  {
   "source": [
    "Modificando Diccionario"
   ],
   "cell_type": "markdown",
   "metadata": {}
  },
  {
   "cell_type": "code",
   "execution_count": 63,
   "metadata": {},
   "outputs": [
    {
     "output_type": "stream",
     "name": "stdout",
     "text": [
      "{'a': False, '5': 'esto es un string', (1, 2): False, 'c': 'nuevo string'}\n"
     ]
    }
   ],
   "source": [
    "diccionario = {'a' : True, '5' : 'esto es un string', (1,2) : False, 'a' : 100, 'a' : False}\n",
    "diccionario['c'] = 'nuevo string' #creamos y agremgamos un dato\n",
    "print(diccionario)"
   ]
  },
  {
   "cell_type": "code",
   "execution_count": 70,
   "metadata": {},
   "outputs": [
    {
     "output_type": "stream",
     "name": "stdout",
     "text": [
      "{'a': False, '5': 'esto es un string', (1, 2): False}\nFalse\n"
     ]
    },
    {
     "output_type": "execute_result",
     "data": {
      "text/plain": [
       "'No se encuentra en el dicc'"
      ]
     },
     "metadata": {},
     "execution_count": 70
    }
   ],
   "source": [
    "diccionario = {'a' : True, '5' : 'esto es un string', (1,2) : False, 'a' : 100, 'a' : False}\n",
    "diccionario['a'] = False #creamos y agremgamos un dato\n",
    "print(diccionario)\n",
    "\n",
    "valor = diccionario['a']\n",
    "print(valor)\n",
    "\n",
    "diccionario.get('z', 'No se encuentra en el dicc')\n"
   ]
  },
  {
   "source": [
    "Eliminando datos"
   ],
   "cell_type": "markdown",
   "metadata": {}
  },
  {
   "cell_type": "code",
   "execution_count": 73,
   "metadata": {},
   "outputs": [
    {
     "output_type": "stream",
     "name": "stdout",
     "text": [
      "{'a': False, (1, 2): False}\n"
     ]
    }
   ],
   "source": [
    "diccionario = {'a' : True, '5' : 'esto es un string', (1,2) : False, 'a' : 100, 'a' : False}\n",
    "del diccionario['5']\n",
    "print(diccionario)"
   ]
  },
  {
   "cell_type": "code",
   "execution_count": 75,
   "metadata": {},
   "outputs": [
    {
     "output_type": "stream",
     "name": "stdout",
     "text": [
      "dict_keys(['a', '5', (1, 2)])\n"
     ]
    }
   ],
   "source": [
    "diccionario = {'a' : True, '5' : 'esto es un string', (1,2) : False, 'a' : 100, 'a' : False}\n",
    "llaves = diccionario.keys()\n",
    "print(llaves)"
   ]
  },
  {
   "cell_type": "code",
   "execution_count": 78,
   "metadata": {},
   "outputs": [
    {
     "output_type": "stream",
     "name": "stdout",
     "text": [
      "('a', '5', (1, 2))\n<class 'tuple'>\n"
     ]
    }
   ],
   "source": [
    "llaves = tuple(diccionario.keys())\n",
    "print(llaves)\n",
    "print(type(llaves))"
   ]
  },
  {
   "cell_type": "code",
   "execution_count": 80,
   "metadata": {},
   "outputs": [
    {
     "output_type": "stream",
     "name": "stdout",
     "text": [
      "{'a': False, '5': 'esto es un string', (1, 2): False, 'z': 23}\n{'a': False, '5': 'esto es un string', (1, 2): False, 'z': 23, 'w': 88}\n"
     ]
    }
   ],
   "source": [
    "diccionario = {'a': False, '5': 'esto es un string', (1, 2): False}\n",
    "diccionario_dos = {'z':23, 'w': 88}\n",
    "diccionario['z']= diccionario_dos['z']\n",
    "print(diccionario)\n",
    "diccionario['w'] = diccionario_dos['w']\n",
    "print(diccionario)"
   ]
  },
  {
   "cell_type": "code",
   "execution_count": 83,
   "metadata": {},
   "outputs": [
    {
     "output_type": "stream",
     "name": "stdout",
     "text": [
      "{'a': False, '5': 'esto es un string', (1, 2): False, 'z': 23, 'w': 88}\n\n"
     ]
    },
    {
     "output_type": "execute_result",
     "data": {
      "text/plain": [
       "{'z': 23, 'w': 88, 'a': False, '5': 'esto es un string', (1, 2): False}"
      ]
     },
     "metadata": {},
     "execution_count": 83
    }
   ],
   "source": [
    "diccionario.update(diccionario_dos)\n",
    "print(diccionario)\n",
    "print('')\n",
    "diccionario_dos.update(diccionario)\n",
    "print\n",
    "(diccionario_dos)"
   ]
  },
  {
   "source": [
    "# Condicionales"
   ],
   "cell_type": "markdown",
   "metadata": {}
  },
  {
   "source": [
    "## condicional if"
   ],
   "cell_type": "markdown",
   "metadata": {}
  },
  {
   "cell_type": "code",
   "execution_count": 88,
   "metadata": {},
   "outputs": [
    {
     "output_type": "stream",
     "name": "stdout",
     "text": [
      "El valor es kiwi \n"
     ]
    }
   ],
   "source": [
    "fruta = 'kiwi'\n",
    "\n",
    "if fruta == 'kiwi':\n",
    "    print('El valor es kiwi ')\n",
    "else:\n",
    "    print('No es kiwi')\n"
   ]
  },
  {
   "cell_type": "code",
   "execution_count": 92,
   "metadata": {},
   "outputs": [
    {
     "output_type": "stream",
     "name": "stdout",
     "text": [
      "no es kiwi\n"
     ]
    }
   ],
   "source": [
    "mensaje = 'Es kiwi' if fruta == 'kiqi' else 'no es kiwi'\n",
    "print(mensaje)"
   ]
  },
  {
   "cell_type": "code",
   "execution_count": 100,
   "metadata": {},
   "outputs": [
    {
     "output_type": "stream",
     "name": "stdout",
     "text": [
      "El valor es kiwi\n"
     ]
    }
   ],
   "source": [
    "if fruta == 'kiwi' :\n",
    "    print('El valor es kiwi')\n",
    "elif fruta == 'manzana':\n",
    "    print('manzana')\n",
    "elif fruta == 'manzana2':\n",
    "    print('manzana2')\n",
    "else:\n",
    "    print('No es niguna fruta')"
   ]
  },
  {
   "cell_type": "code",
   "execution_count": 101,
   "metadata": {},
   "outputs": [
    {
     "output_type": "stream",
     "name": "stdout",
     "text": [
      "Es verdad\n"
     ]
    }
   ],
   "source": [
    "if True:\n",
    "    print('Es verdad')"
   ]
  },
  {
   "cell_type": "code",
   "execution_count": 102,
   "metadata": {},
   "outputs": [
    {
     "output_type": "stream",
     "name": "stdout",
     "text": [
      "Es verdadero\n"
     ]
    }
   ],
   "source": [
    "if 1 :\n",
    "    print('Es verdadero')"
   ]
  },
  {
   "cell_type": "code",
   "execution_count": 113,
   "metadata": {},
   "outputs": [
    {
     "output_type": "stream",
     "name": "stdout",
     "text": [
      "Es verdadero\n"
     ]
    }
   ],
   "source": [
    "valor = None\n",
    "valor_dos = 20\n",
    "\n",
    "if valor or valor_dos > 10:\n",
    "    print('Es verdadero')\n",
    "else:\n",
    "    print('Es falso')"
   ]
  },
  {
   "source": [
    "## Ciclo while"
   ],
   "cell_type": "markdown",
   "metadata": {}
  },
  {
   "cell_type": "code",
   "execution_count": 121,
   "metadata": {},
   "outputs": [
    {
     "output_type": "stream",
     "name": "stdout",
     "text": [
      "el valor de a es: 12\n0\n1\n2\n3\n4\n5\n6\n7\n8\n9\n10\n11\nk ya es mayor que 12\n"
     ]
    }
   ],
   "source": [
    "import random as rd\n",
    "\n",
    "k = 0\n",
    "a = rd.randint(0, 20)\n",
    "print(f'el valor de a es: {a}')\n",
    "while k < a :\n",
    "    print(k)\n",
    "    k += 1\n",
    "else:\n",
    "    print(f'k ya es mayor que {a}')\n"
   ]
  },
  {
   "cell_type": "code",
   "execution_count": 135,
   "metadata": {},
   "outputs": [
    {
     "output_type": "stream",
     "name": "stdout",
     "text": [
      "0\n1\n2\n3\n4\nEstamos en 5\n5\nEstamos en 6\n6\n7\n8\n9\nEl while a terminado\n"
     ]
    }
   ],
   "source": [
    "contador = 0\n",
    "\n",
    "while contador < 10:\n",
    "    print(contador)\n",
    "    contador += 1\n",
    "    if contador == 5:\n",
    "        print('Estamos en 5')\n",
    "    if contador == 6:\n",
    "        print('Estamos en 6')\n",
    "else:\n",
    "    print('El while a terminado')"
   ]
  },
  {
   "cell_type": "code",
   "execution_count": 140,
   "metadata": {
    "tags": []
   },
   "outputs": [
    {
     "output_type": "stream",
     "name": "stdout",
     "text": [
      "0\n1\n2\n3\n4\n5\nEl while a terminado\n"
     ]
    }
   ],
   "source": [
    "contador = 0\n",
    "bandera = True\n",
    "\n",
    "while bandera:\n",
    "    print(contador)\n",
    "    contador += 1\n",
    "    if contador == 5:\n",
    "        continue\n",
    "    if contador == 6:\n",
    "        bandera = False\n",
    "else:\n",
    "    print('El while a terminado')"
   ]
  },
  {
   "source": [
    "## Ciclo For"
   ],
   "cell_type": "markdown",
   "metadata": {}
  },
  {
   "cell_type": "code",
   "execution_count": 11,
   "metadata": {
    "tags": []
   },
   "outputs": [
    {
     "output_type": "stream",
     "name": "stdout",
     "text": [
      "0\n2000\n4000\n6000\n8000\n[0, 2000, 4000, 6000, 8000]\n"
     ]
    }
   ],
   "source": [
    "lista = [1, 2, 3, 4, 5, 6, 7, 8, 9, 10]\n",
    "for i in lista:\n",
    "    pass\n",
    "\n",
    "nuevo_rango = range(0, 10000, 2000)\n",
    "\n",
    "lista_2 = []\n",
    "for i in nuevo_rango:\n",
    "    lista_2.append(i)\n",
    "    print(i)\n",
    "print(lista_2)"
   ]
  },
  {
   "cell_type": "code",
   "execution_count": 25,
   "metadata": {},
   "outputs": [
    {
     "output_type": "stream",
     "name": "stdout",
     "text": [
      "['hola', 'a', 'todos', 'los', 'que', 'leen', 'esto']\n"
     ]
    }
   ],
   "source": [
    "lista = [1, 2, 3, 4, 5, 6, 7, 8, 9, 10]\n",
    "for i in lista:\n",
    "    pass\n",
    "\n",
    "for k,i in enumerate(lista):\n",
    "    pass #print(f'{k} >>> {i}')\n",
    "\n",
    "for i in range(0, len(lista)):\n",
    "    pass #print(i)\n",
    "for i in 'hola a todas las persona que leen esto':\n",
    "    pass #print(i)\n",
    "\n",
    "a = 'hola a todos los que leen esto'\n",
    "b = a.split(' ')\n",
    "print(b)\n",
    "\n"
   ]
  },
  {
   "source": [
    "## List Comprehesion"
   ],
   "cell_type": "markdown",
   "metadata": {}
  },
  {
   "cell_type": "code",
   "execution_count": 29,
   "metadata": {},
   "outputs": [
    {
     "output_type": "stream",
     "name": "stdout",
     "text": [
      "[0, 1, 2, 3, 4, 5, 6, 7, 8, 9, 10, 11, 12, 13, 14, 15, 16, 17, 18, 19, 20, 21, 22, 23, 24, 25, 26, 27, 28, 29, 30, 31, 32, 33, 34, 35, 36, 37, 38, 39, 40, 41, 42, 43, 44, 45, 46, 47, 48, 49, 50, 51, 52, 53, 54, 55, 56, 57, 58, 59, 60, 61, 62, 63, 64, 65, 66, 67, 68, 69, 70, 71, 72, 73, 74, 75, 76, 77, 78, 79, 80, 81, 82, 83, 84, 85, 86, 87, 88, 89, 90, 91, 92, 93, 94, 95, 96, 97, 98, 99, 100]\n"
     ]
    }
   ],
   "source": [
    "lista = []\n",
    "for i in range(0, 101):\n",
    "    lista.append(i)\n",
    "print(lista)"
   ]
  },
  {
   "cell_type": "code",
   "execution_count": 60,
   "metadata": {},
   "outputs": [
    {
     "output_type": "stream",
     "name": "stdout",
     "text": [
      "[0.0, 1.0, 1.4142135623730951, 1.7320508075688772, 2.0, 2.23606797749979, 2.449489742783178, 2.6457513110645907, 2.8284271247461903, 3.0, 3.1622776601683795, 3.3166247903554, 3.4641016151377544, 3.605551275463989, 3.7416573867739413, 3.872983346207417, 4.0, 4.123105625617661, 4.242640687119285, 4.358898943540674, 4.47213595499958, 4.58257569495584, 4.69041575982343, 4.795831523312719, 4.898979485566356, 5.0, 5.0990195135927845, 5.196152422706632, 5.291502622129181, 5.385164807134504, 5.477225575051661, 5.5677643628300215, 5.656854249492381, 5.744562646538029, 5.830951894845301, 5.916079783099616, 6.0, 6.082762530298219, 6.164414002968976, 6.244997998398398, 6.324555320336759, 6.4031242374328485, 6.48074069840786, 6.557438524302, 6.6332495807108, 6.708203932499369, 6.782329983125268, 6.855654600401044, 6.928203230275509, 7.0, 7.0710678118654755, 7.14142842854285, 7.211102550927978, 7.280109889280518, 7.3484692283495345, 7.416198487095663, 7.483314773547883, 7.54983443527075, 7.615773105863909, 7.681145747868608, 7.745966692414834, 7.810249675906654, 7.874007874011811, 7.937253933193772, 8.0, 8.06225774829855, 8.12403840463596, 8.18535277187245, 8.246211251235321, 8.306623862918075, 8.366600265340756, 8.426149773176359, 8.48528137423857, 8.54400374531753, 8.602325267042627, 8.660254037844387, 8.717797887081348, 8.774964387392123, 8.831760866327848, 8.888194417315589, 8.94427190999916, 9.0, 9.055385138137417, 9.1104335791443, 9.16515138991168, 9.219544457292887, 9.273618495495704, 9.327379053088816, 9.38083151964686, 9.433981132056603, 9.486832980505138, 9.539392014169456, 9.591663046625438, 9.643650760992955, 9.695359714832659, 9.746794344808963, 9.797958971132712, 9.848857801796104, 9.899494936611665, 9.9498743710662]\n"
     ]
    }
   ],
   "source": [
    "# Creaos una lista usando comprehesion\n",
    "\n",
    "import math as m\n",
    "\n",
    "lista = [m.sqrt(i)  for i in range(0, 100)]\n",
    "print(lista)"
   ]
  },
  {
   "cell_type": "code",
   "execution_count": 53,
   "metadata": {},
   "outputs": [
    {
     "output_type": "stream",
     "name": "stdout",
     "text": [
      "(0, 10, 20, 30, 40, 50, 60, 70, 80, 90)\n"
     ]
    }
   ],
   "source": [
    "# Creamos un tupla usando list comprehesion4\n",
    "\n",
    "tupla = tuple(i for i in range(0, 100, 10))\n",
    "print(tupla)"
   ]
  },
  {
   "cell_type": "code",
   "execution_count": 61,
   "metadata": {},
   "outputs": [
    {
     "output_type": "stream",
     "name": "stdout",
     "text": [
      "{0: 0.0, 1: 1.0, 2: 1.4142135623730951, 3: 1.7320508075688772, 4: 2.0, 5: 2.23606797749979, 6: 2.449489742783178, 7: 2.6457513110645907, 8: 2.8284271247461903, 9: 3.0, 10: 3.1622776601683795, 11: 3.3166247903554, 12: 3.4641016151377544, 13: 3.605551275463989, 14: 3.7416573867739413, 15: 3.872983346207417, 16: 4.0, 17: 4.123105625617661, 18: 4.242640687119285, 19: 4.358898943540674, 20: 4.47213595499958, 21: 4.58257569495584, 22: 4.69041575982343, 23: 4.795831523312719, 24: 4.898979485566356, 25: 5.0, 26: 5.0990195135927845, 27: 5.196152422706632, 28: 5.291502622129181, 29: 5.385164807134504, 30: 5.477225575051661, 31: 5.5677643628300215, 32: 5.656854249492381, 33: 5.744562646538029, 34: 5.830951894845301, 35: 5.916079783099616, 36: 6.0, 37: 6.082762530298219, 38: 6.164414002968976, 39: 6.244997998398398, 40: 6.324555320336759, 41: 6.4031242374328485, 42: 6.48074069840786, 43: 6.557438524302, 44: 6.6332495807108, 45: 6.708203932499369, 46: 6.782329983125268, 47: 6.855654600401044, 48: 6.928203230275509, 49: 7.0, 50: 7.0710678118654755, 51: 7.14142842854285, 52: 7.211102550927978, 53: 7.280109889280518, 54: 7.3484692283495345, 55: 7.416198487095663, 56: 7.483314773547883, 57: 7.54983443527075, 58: 7.615773105863909, 59: 7.681145747868608, 60: 7.745966692414834, 61: 7.810249675906654, 62: 7.874007874011811, 63: 7.937253933193772, 64: 8.0, 65: 8.06225774829855, 66: 8.12403840463596, 67: 8.18535277187245, 68: 8.246211251235321, 69: 8.306623862918075, 70: 8.366600265340756, 71: 8.426149773176359, 72: 8.48528137423857, 73: 8.54400374531753, 74: 8.602325267042627, 75: 8.660254037844387, 76: 8.717797887081348, 77: 8.774964387392123, 78: 8.831760866327848, 79: 8.888194417315589, 80: 8.94427190999916, 81: 9.0, 82: 9.055385138137417, 83: 9.1104335791443, 84: 9.16515138991168, 85: 9.219544457292887, 86: 9.273618495495704, 87: 9.327379053088816, 88: 9.38083151964686, 89: 9.433981132056603, 90: 9.486832980505138, 91: 9.539392014169456, 92: 9.591663046625438, 93: 9.643650760992955, 94: 9.695359714832659, 95: 9.746794344808963, 96: 9.797958971132712, 97: 9.848857801796104, 98: 9.899494936611665, 99: 9.9498743710662}\n"
     ]
    }
   ],
   "source": [
    "# Creamos un diccionario usando list comprehesion4\n",
    "\n",
    "diccionario = {k : i for k,i in enumerate(lista)}\n",
    "print(diccionario)"
   ]
  },
  {
   "source": [
    "# Funciones"
   ],
   "cell_type": "markdown",
   "metadata": {}
  },
  {
   "source": [
    "Funcion sin argumento"
   ],
   "cell_type": "markdown",
   "metadata": {}
  },
  {
   "cell_type": "code",
   "execution_count": 115,
   "metadata": {},
   "outputs": [
    {
     "output_type": "stream",
     "name": "stdout",
     "text": [
      "120\n"
     ]
    }
   ],
   "source": [
    "def factorial_numero():\n",
    "    numero = 5\n",
    "    factorial = 1\n",
    "    while numero > 0 :\n",
    "        factorial = factorial*numero\n",
    "        numero -= 1\n",
    "    print(factorial)\n",
    "factorial_numero()"
   ]
  },
  {
   "source": [
    "Funcion con argunmento"
   ],
   "cell_type": "markdown",
   "metadata": {}
  },
  {
   "cell_type": "code",
   "execution_count": 124,
   "metadata": {},
   "outputs": [
    {
     "output_type": "execute_result",
     "data": {
      "text/plain": [
       "int"
      ]
     },
     "metadata": {},
     "execution_count": 124
    }
   ],
   "source": [
    "def factorial_numero(numero):\n",
    "    factorial = 1\n",
    "    while numero > 0 :\n",
    "        factorial = factorial*numero\n",
    "        numero -= 1\n",
    "    return factorial\n",
    "#print(factorial)\n",
    "\n",
    "type(factorial_numero(4))"
   ]
  },
  {
   "cell_type": "code",
   "execution_count": 132,
   "metadata": {},
   "outputs": [
    {
     "output_type": "stream",
     "name": "stdout",
     "text": [
      "6\n"
     ]
    }
   ],
   "source": [
    "def suma(op1, op2, op3):\n",
    "    return op1 + op2 + op3\n",
    "\n",
    "op1 = int(input('ingrese el valor de ap1 : '))\n",
    "op2 = int(input('ingrese el valor de ap2 : '))\n",
    "op3 = int(input('ingrese el valor de ap3 : '))\n",
    "\n",
    "print(suma(op1, op2, op3))"
   ]
  },
  {
   "cell_type": "code",
   "execution_count": 133,
   "metadata": {},
   "outputs": [],
   "source": [
    "def CuatroOperacion(a,b):\n",
    "    return a+b, a-b, a*b, a/b"
   ]
  },
  {
   "cell_type": "code",
   "execution_count": 140,
   "metadata": {},
   "outputs": [
    {
     "output_type": "stream",
     "name": "stdout",
     "text": [
      "(14, -2, 48, 0.75)\n"
     ]
    }
   ],
   "source": [
    "def mostrar_resultado(i):\n",
    "    print(i(6,8))\n",
    "mostrar_resultado(CuatroOperacion)\n"
   ]
  },
  {
   "cell_type": "code",
   "execution_count": 138,
   "metadata": {},
   "outputs": [
    {
     "output_type": "error",
     "ename": "NameError",
     "evalue": "name 'multiplicacion' is not defined",
     "traceback": [
      "\u001b[1;31m---------------------------------------------------------------------------\u001b[0m",
      "\u001b[1;31mNameError\u001b[0m                                 Traceback (most recent call last)",
      "\u001b[1;32m<ipython-input-138-00e4e5ea3d01>\u001b[0m in \u001b[0;36m<module>\u001b[1;34m\u001b[0m\n\u001b[0;32m      2\u001b[0m     \u001b[1;32mreturn\u001b[0m \u001b[1;34m'String'\u001b[0m\u001b[1;33m,\u001b[0m \u001b[1;36m1\u001b[0m\u001b[1;33m,\u001b[0m \u001b[1;32mTrue\u001b[0m\u001b[1;33m,\u001b[0m \u001b[1;36m25.6\u001b[0m\u001b[1;33m\u001b[0m\u001b[1;33m\u001b[0m\u001b[0m\n\u001b[0;32m      3\u001b[0m \u001b[1;33m\u001b[0m\u001b[0m\n\u001b[1;32m----> 4\u001b[1;33m \u001b[0mmi_variable\u001b[0m \u001b[1;33m=\u001b[0m \u001b[0mmultiplicacion\u001b[0m\u001b[1;33m\u001b[0m\u001b[1;33m\u001b[0m\u001b[0m\n\u001b[0m\u001b[0;32m      5\u001b[0m \u001b[0mresultado\u001b[0m \u001b[1;33m=\u001b[0m \u001b[0mmi_variable\u001b[0m\u001b[1;33m(\u001b[0m\u001b[1;36m6\u001b[0m\u001b[1;33m,\u001b[0m\u001b[1;36m8\u001b[0m\u001b[1;33m)\u001b[0m\u001b[1;33m\u001b[0m\u001b[1;33m\u001b[0m\u001b[0m\n\u001b[0;32m      6\u001b[0m \u001b[0mprint\u001b[0m\u001b[1;33m(\u001b[0m\u001b[0mresultado\u001b[0m\u001b[1;33m)\u001b[0m\u001b[1;33m\u001b[0m\u001b[1;33m\u001b[0m\u001b[0m\n",
      "\u001b[1;31mNameError\u001b[0m: name 'multiplicacion' is not defined"
     ]
    }
   ],
   "source": [
    "def multiples_valores():\n",
    "    return 'String', 1, True, 25.6\n",
    "\n",
    "mi_variable = multiplicacion\n",
    "resultado = mi_variable(6,8)\n",
    "print(resultado)"
   ]
  },
  {
   "source": [
    "## Variables Globales"
   ],
   "cell_type": "markdown",
   "metadata": {}
  },
  {
   "cell_type": "code",
   "execution_count": 27,
   "metadata": {},
   "outputs": [
    {
     "output_type": "execute_result",
     "data": {
      "text/plain": [
       "'Es una frase palidromo'"
      ]
     },
     "metadata": {},
     "execution_count": 27
    }
   ],
   "source": [
    "def palidromo(frase):\n",
    "    \n",
    "    op2 = frase.replace(' ', '')\n",
    "    op1 = frase[::-1]\n",
    "    op1 = op1.replace(' ','')\n",
    "    if op1 == op2:\n",
    "        return 'Es una frase palidromo'\n",
    "    else:\n",
    "        return 'No es una palabra palidromo'\n",
    "\n",
    "a = 'oso'\n",
    "palidromo(a)\n"
   ]
  },
  {
   "cell_type": "code",
   "execution_count": 10,
   "metadata": {},
   "outputs": [
    {
     "output_type": "stream",
     "name": "stdout",
     "text": [
      "anitalavalatina\nTrue\nanita lava la tina\n"
     ]
    }
   ],
   "source": [
    "def palidromo(frase):\n",
    "    frase = frase.replace(' ', '')\n",
    "    print(frase)\n",
    "    return frase == frase[::-1]\n",
    "\n",
    "frase = 'anita lava la tina'\n",
    "resultado = palidromo(frase)\n",
    "print(resultado)\n",
    "print(frase)"
   ]
  },
  {
   "cell_type": "code",
   "execution_count": 12,
   "metadata": {},
   "outputs": [
    {
     "output_type": "stream",
     "name": "stdout",
     "text": [
      "False\nanita lava la tina\n"
     ]
    }
   ],
   "source": [
    "def palidromo(frase):\n",
    "    nuevo_valor = frase.replace(' ', '')\n",
    "    return frase == frase[::-1]\n",
    "\n",
    "frase = 'anita lava la tina'\n",
    "resultado = palidromo(frase)\n",
    "print(resultado)\n",
    "print(frase)"
   ]
  },
  {
   "cell_type": "code",
   "execution_count": 13,
   "metadata": {},
   "outputs": [
    {
     "output_type": "stream",
     "name": "stdout",
     "text": [
      "Esto es una variable global\nCambiar valor\n"
     ]
    }
   ],
   "source": [
    "def valor_global():\n",
    "    global variable_global\n",
    "    variable_global = 'Cambiar valor'\n",
    "def mostrar_global():\n",
    "    print(variable_global)\n",
    "    \n",
    "variable_global = 'Esto es una variable global'\n",
    "mostrar_global()\n",
    "valor_global()\n",
    "print(variable_global)"
   ]
  },
  {
   "cell_type": "code",
   "execution_count": 21,
   "metadata": {},
   "outputs": [
    {
     "output_type": "stream",
     "name": "stdout",
     "text": [
      "Esto es una variable global.\n"
     ]
    }
   ],
   "source": [
    "def valor_global():\n",
    "    global variable_global\n",
    "    variable_global = 'Cambiar valor'\n",
    "def mostrar_global():\n",
    "    print(variable_global)\n",
    "def crear_global():\n",
    "    global nueva_variable\n",
    "    nueva_variable = 'Esto es una variable global.'\n",
    "\n",
    "crear_global()\n",
    "print(nueva_variable)\n"
   ]
  },
  {
   "cell_type": "code",
   "execution_count": null,
   "metadata": {},
   "outputs": [],
   "source": []
  },
  {
   "cell_type": "code",
   "execution_count": null,
   "metadata": {},
   "outputs": [],
   "source": []
  }
 ]
}