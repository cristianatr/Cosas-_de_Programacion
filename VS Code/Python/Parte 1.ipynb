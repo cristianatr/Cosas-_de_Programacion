{
 "metadata": {
  "language_info": {
   "codemirror_mode": {
    "name": "ipython",
    "version": 3
   },
   "file_extension": ".py",
   "mimetype": "text/x-python",
   "name": "python",
   "nbconvert_exporter": "python",
   "pygments_lexer": "ipython3",
   "version": "3.8.5-final"
  },
  "orig_nbformat": 2,
  "kernelspec": {
   "name": "python3",
   "display_name": "Python 3",
   "language": "python"
  }
 },
 "nbformat": 4,
 "nbformat_minor": 2,
 "cells": [
  {
   "source": [
    "## Funcion triangle(a, b, c) version 1"
   ],
   "cell_type": "markdown",
   "metadata": {}
  },
  {
   "cell_type": "code",
   "execution_count": 123,
   "metadata": {},
   "outputs": [],
   "source": [
    "def triangle(a, b, c):\n",
    "    \n",
    "    if a <= 0 or b <= 0 or c <= 0:\n",
    "        print('Valores No Contemplados.')\n",
    "    else:\n",
    "        if a == b and b == c :\n",
    "            return 'Equilatero'             #verifica si es un triangulo equilatero\n",
    "        elif a == b or b == c or a == c:                              #verifica si es un t.isoceles\n",
    "            return 'Isosceles'  \n",
    "        elif a != b and b != c and a != c:                              #verificaa si es un t.esclonado\n",
    "            return 'Escaleno'\n",
    " # Creamos Nuestra Propia Excepeccion\n",
    "class TriangleError(Exception):\n",
    "    pass"
   ]
  },
  {
   "source": [
    "## Primer Test"
   ],
   "cell_type": "markdown",
   "metadata": {}
  },
  {
   "cell_type": "code",
   "execution_count": 124,
   "metadata": {},
   "outputs": [],
   "source": [
    "triangle(2, 2, 2)\n",
    "assert('Equilatero' == triangle(2, 2, 2))\n",
    "\n",
    "triangle(10, 10, 10)\n",
    "assert('Equilatero' == triangle(10, 10, 10))\n",
    "\n",
    "triangle(3, 4, 4)\n",
    "assert('Isosceles' == triangle(3, 4, 4))\n",
    "\n",
    "triangle(4, 3, 4)\n",
    "assert('Isosceles' == triangle(4, 3, 4))\n",
    "\n",
    "triangle(4, 4, 3)\n",
    "assert('Isosceles' == triangle(4, 4, 3))\n",
    "\n",
    "triangle(10, 10, 2)\n",
    "assert('Isosceles' == triangle(10, 10, 2))\n",
    "\n",
    "triangle(3, 4, 5)\n",
    "assert('Escaleno' == triangle(3, 4, 5))\n",
    "\n",
    "triangle(10, 11, 12)\n",
    "assert('Escaleno' == triangle(10, 11, 12))\n",
    "\n",
    "triangle(5, 4, 2)\n",
    "assert('Escaleno' == triangle(5, 4, 2))"
   ]
  },
  {
   "source": [
    "## Segundo Test"
   ],
   "cell_type": "markdown",
   "metadata": {}
  },
  {
   "cell_type": "code",
   "execution_count": 121,
   "metadata": {},
   "outputs": [],
   "source": [
    "def triangle(a, b, c):\n",
    "    # Probamos que los cateros sean (+)\n",
    "    if a <= 0 or b <= 0 or c <= 0:\n",
    "        print('Valores no contemplados')\n",
    "        return False\n",
    "    # Verificamos si cumple con el Terema de Pitagoras\n",
    "    \n",
    "    elif mt.sqrt(a**2 + b**2) == c or mt.sqrt(b**2 + c**2) == a or mt.sqrt(c**2 +a**2) == b:\n",
    "        print('Cumple con el teorema de pitagoras')\n",
    "        if a == b or b == c :                              #verifica si es un t.isoceles\n",
    "            return 'Isosceles'\n",
    "        else:\n",
    "            return 'Escaleno'\n",
    "    else:\n",
    "        print('No cumple con el teorema de pitagoras')\n",
    "        if a == b and b == c :\n",
    "            return 'Equilatero'\n",
    "            \n",
    "        elif a == b or b == c or a == c :                              #verifica si es un t.isoceles\n",
    "            return 'Isosceles'\n",
    "    class TriangleError(Exception):\n",
    "        pass"
   ]
  },
  {
   "cell_type": "code",
   "execution_count": 122,
   "metadata": {},
   "outputs": [
    {
     "output_type": "stream",
     "name": "stdout",
     "text": [
      "Valores no contemplados\nNo cumple con el teorema de pitagoras\nNo cumple con el teorema de pitagoras\nNo cumple con el teorema de pitagoras\nValores no contemplados\nValores no contemplados\nNo cumple con el teorema de pitagoras\n7\n"
     ]
    }
   ],
   "source": [
    "\n",
    "class TriangleError(Exception):\n",
    "        pass\n",
    "count = 0\n",
    "\n",
    "try:\n",
    "    # los lados de un triángulo deben ser mayores a cero\n",
    "    var = triangle(1.0, 0, 0)\n",
    "    raise TriangleError()\n",
    "except TriangleError:\n",
    "    \n",
    "    count += 1  \n",
    "try:\n",
    "    # se debe cumplir el teorema de pitágoras\n",
    "    var = triangle(1, 1, 7)\n",
    "    raise TriangleError()\n",
    "except TriangleError:\n",
    "    count += 1\n",
    "    #print(TriangleError)\n",
    "    \n",
    "try:\n",
    "    var = triangle(1, 7, 1)\n",
    "    raise TriangleError()\n",
    "except TriangleError:\n",
    "    count += 1\n",
    "    #print(TriangleError)\n",
    "    \n",
    "try:\n",
    "    var = triangle(7, 1, 1)\n",
    "    raise TriangleError()\n",
    "except TriangleError:\n",
    "    count += 1\n",
    "    #print(TriangleError)\n",
    "    \n",
    "try:\n",
    "    var = triangle(0, 0, 0)\n",
    "    raise TriangleError()\n",
    "except TriangleError:\n",
    "    count += 1\n",
    "    #print(TriangleError)\n",
    "    \n",
    "try:\n",
    "    var = triangle(1, 1, -1)\n",
    "    raise TriangleError()\n",
    "except TriangleError:\n",
    "    count += 1\n",
    "    #print(TriangleError)\n",
    "    \n",
    "try:\n",
    "    var = triangle(1, 1, 5)\n",
    "    raise TriangleError()\n",
    "except TriangleError:\n",
    "    count += 1\n",
    "    #print(TriangleError)\n",
    "    \n",
    "assert(count == 7)\n",
    "print(count)"
   ]
  }
 ]
}