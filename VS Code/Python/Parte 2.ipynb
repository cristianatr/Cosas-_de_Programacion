{
 "metadata": {
  "language_info": {
   "codemirror_mode": {
    "name": "ipython",
    "version": 3
   },
   "file_extension": ".py",
   "mimetype": "text/x-python",
   "name": "python",
   "nbconvert_exporter": "python",
   "pygments_lexer": "ipython3",
   "version": "3.8.5-final"
  },
  "orig_nbformat": 2,
  "kernelspec": {
   "name": "python3",
   "display_name": "Python 3",
   "language": "python"
  }
 },
 "nbformat": 4,
 "nbformat_minor": 2,
 "cells": [
  {
   "cell_type": "code",
   "execution_count": 5,
   "metadata": {},
   "outputs": [],
   "source": [
    "# Estamos comenzando a desarrollar un juego de la Generala y necesitamos hacer algunas verificaciones, debemos tener en cuenta que un cubilete es un objeto y los 5 dados en su interior serán quienes obtengan un valor en cada lanzamiento. No te olvides que es un juego de azar, y para esto podemos importar un paquete que contenga la funcion random.\n",
    "\n",
    "import random as rd\n",
    "\n",
    "class DiceSet:\n",
    "    def __init__(self):\n",
    "        self._values = None\n",
    "\n",
    "    @property\n",
    "    def values(self):\n",
    "      return self._values\n",
    "\n",
    "    def values_set(self, new_values):\n",
    "      self._values = new_values\n",
    "  \n",
    "    def roll(self, n):\n",
    "      self._values = []\n",
    "      for i in range(n):\n",
    "        #self._values = []\n",
    "        self._values.append(rd.randint(1,6))\n",
    "      return self._values\n",
    "      \n",
    "dice = DiceSet()\n",
    "assert(dice)\n",
    "\n",
    "#lanzo 5 dados\n",
    "dice.roll(5)\n",
    "#print(5 == len(dice.roll(5)))  # [Borrar luego]\n",
    "\n",
    "if not isinstance(dice.values, list):\n",
    "  raise Exception(\"debería ser una lista\")\n",
    "assert(5 == len(dice.values))\n",
    "for value in dice.values:\n",
    "    if 1 <= value <= 6:\n",
    "      continue\n",
    "    raise Exception(f\"El valor {str(value):s} debe estar entre 1 y 6\")\n",
    "\n",
    "#lanzo 3 dados\n",
    "dice.roll(3)\n",
    "#print(3 == len(dice.roll(3)))          # [Borrar luego]\n",
    "assert(3 == len(dice.values))\n",
    "\n",
    "#lanzo 1 dado\n",
    "dice.roll(1)\n",
    "#print(1 == len(dice.roll(1)))          # [Borrar luego]\n",
    "assert(1 == len(dice.values))\n",
    "\n",
    "#hago dos lanzamientos y veo si son distintos\n",
    "dice.roll(5)\n",
    "first_time = dice.values\n",
    "dice.roll(5)\n",
    "second_time = dice.values\n",
    "assert(first_time != second_time)"
   ]
  },
  {
   "source": [
    "### Cuarto problema (1 punto)\n",
    "Si los dados son aleatorios, existe la posibilidad de que dos lanzamientos sean iguales, ¿cómo podrías mostrar que los dados son legales? Un dado es legal si cada numero tiene la misma probabilidad de salir. Podés mostrar tus resultados con tablas o gráficas y una breve explicación. Podés crear las celdas que creas necesarias, tanto para código como para texto en Markdown."
   ],
   "cell_type": "markdown",
   "metadata": {}
  },
  {
   "cell_type": "code",
   "execution_count": null,
   "metadata": {},
   "outputs": [],
   "source": []
  },
  {
   "cell_type": "code",
   "execution_count": null,
   "metadata": {},
   "outputs": [],
   "source": []
  }
 ]
}