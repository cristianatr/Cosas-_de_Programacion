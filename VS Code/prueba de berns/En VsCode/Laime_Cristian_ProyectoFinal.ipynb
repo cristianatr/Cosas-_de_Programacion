{
 "cells": [
  {
   "cell_type": "markdown",
   "metadata": {
    "id": "Kw9oLJHPg3qs"
   },
   "source": [
    "# Triangle project\n",
    "Este ejercicio debe pasar dos sets de pruebas, el primero de ellos verificará si la función puede clasificar triángulos, mientras que el otro set evalúa la robustez ante triangulos ilegales."
   ]
  },
  {
   "cell_type": "code",
   "execution_count": 44,
   "metadata": {
    "id": "PhKmDVRqhEqS"
   },
   "outputs": [],
   "source": [
    "def triangle(a, b, c):\n",
    "  \"\"\"Triangle es una funcion que analiza las longitudes de los lados de un triángulo\n",
    "  (representados por a, b y c) y devuelve el tipo de triangulo.\n",
    "      La salida es:\n",
    "        'equilatero'  si todos los lados son iguales\n",
    "        'isosceles'   si dos lados son iguales\n",
    "        'escaleno'     si todos los lados son distintos\n",
    "  \"\"\"\n",
    "# BORRAR \"PASS\" Y ESCRIBIR EL CÓDIGO DEBAJO DE ESTA LINEA PARA RESOLVER EL PROBLEMA\n",
    "\n",
    "def triangle(a, b, c):\n",
    " \n",
    "    if a <= 0 or b <= 0 or c <= 0:\n",
    "        #print('Triangulo ILEGAL')\n",
    "        pass\n",
    "    else:\n",
    "        \n",
    "        if a == b and b == c :\n",
    "            #print('Triangulo equilatero')\n",
    "            return 'equilatero'             \n",
    "        elif a == b or b == c or a == c:\n",
    "            #print('Triangulo isosceles')                            \n",
    "            return 'isosceles'  \n",
    "        elif a != b and b != c and a != c:\n",
    "            #print('Triangulo escaleno')                              \n",
    "            return 'escaleno'\n",
    "\n",
    "# ESTO NO HAY QUE CAMBIARLO\n",
    "class TriangleError(Exception):\n",
    "    pass\n"
   ]
  },
  {
   "cell_type": "markdown",
   "metadata": {},
   "source": [
    "### Primer problema (2 puntos)\n",
    "Editar el código de la función anterior para que pase las siguientes pruebas:"
   ]
  },
  {
   "cell_type": "code",
   "execution_count": null,
   "metadata": {
    "id": "NYL4XrephtRn"
   },
   "outputs": [],
   "source": [
    "assert('equilatero' == triangle(2, 2, 2))\n",
    "assert('equilatero' == triangle(10, 10, 10))\n",
    "assert('isosceles' == triangle(3, 4, 4))\n",
    "assert('isosceles' == triangle(4, 3, 4))\n",
    "assert('isosceles' == triangle(4, 4, 3))\n",
    "assert('isosceles' == triangle(10, 10, 2))\n",
    "assert('escaleno' == triangle(3, 4, 5))\n",
    "assert('escaleno' == triangle(10, 11, 12))\n",
    "assert('escaleno' == triangle(5, 4, 2))"
   ]
  },
  {
   "cell_type": "markdown",
   "metadata": {},
   "source": [
    "*El código debe correr sin mostrar \"AssertionError\"*\n",
    "### Segundo problema (1 punto)\n",
    "Se verificará el código con triángulos ilegales. Mejorá el código de la función triangle para que llame a la función TriangleError en caso de que se haya ingresado los parámetros de un triángulo ilegal.\n",
    "\n",
    "*AYUDA* recordá el uso de la instrucción \"raise\""
   ]
  },
  {
   "cell_type": "code",
   "execution_count": 1,
   "metadata": {
    "id": "XaUDlBYDkTaJ"
   },
   "outputs": [
    {
     "output_type": "error",
     "ename": "NameError",
     "evalue": "name 'TriangleError' is not defined",
     "traceback": [
      "\u001b[1;31m---------------------------------------------------------------------------\u001b[0m",
      "\u001b[1;31mNameError\u001b[0m                                 Traceback (most recent call last)",
      "\u001b[1;32m<ipython-input-1-f80d83df752e>\u001b[0m in \u001b[0;36m<module>\u001b[1;34m\u001b[0m\n\u001b[0;32m      3\u001b[0m     \u001b[1;31m# los lados de un triángulo deben ser mayores a cero\u001b[0m\u001b[1;33m\u001b[0m\u001b[1;33m\u001b[0m\u001b[1;33m\u001b[0m\u001b[0m\n\u001b[1;32m----> 4\u001b[1;33m     \u001b[0mvar\u001b[0m \u001b[1;33m=\u001b[0m \u001b[0mtriangle\u001b[0m\u001b[1;33m(\u001b[0m\u001b[1;36m1.0\u001b[0m\u001b[1;33m,\u001b[0m \u001b[1;36m0\u001b[0m\u001b[1;33m,\u001b[0m \u001b[1;36m0\u001b[0m\u001b[1;33m)\u001b[0m\u001b[1;33m\u001b[0m\u001b[1;33m\u001b[0m\u001b[0m\n\u001b[0m\u001b[0;32m      5\u001b[0m     \u001b[1;32mraise\u001b[0m \u001b[0mTriangleError\u001b[0m\u001b[1;33m(\u001b[0m\u001b[1;33m)\u001b[0m\u001b[1;33m\u001b[0m\u001b[1;33m\u001b[0m\u001b[0m\n",
      "\u001b[1;31mNameError\u001b[0m: name 'triangle' is not defined",
      "\nDuring handling of the above exception, another exception occurred:\n",
      "\u001b[1;31mNameError\u001b[0m                                 Traceback (most recent call last)",
      "\u001b[1;32m<ipython-input-1-f80d83df752e>\u001b[0m in \u001b[0;36m<module>\u001b[1;34m\u001b[0m\n\u001b[0;32m      4\u001b[0m     \u001b[0mvar\u001b[0m \u001b[1;33m=\u001b[0m \u001b[0mtriangle\u001b[0m\u001b[1;33m(\u001b[0m\u001b[1;36m1.0\u001b[0m\u001b[1;33m,\u001b[0m \u001b[1;36m0\u001b[0m\u001b[1;33m,\u001b[0m \u001b[1;36m0\u001b[0m\u001b[1;33m)\u001b[0m\u001b[1;33m\u001b[0m\u001b[1;33m\u001b[0m\u001b[0m\n\u001b[0;32m      5\u001b[0m     \u001b[1;32mraise\u001b[0m \u001b[0mTriangleError\u001b[0m\u001b[1;33m(\u001b[0m\u001b[1;33m)\u001b[0m\u001b[1;33m\u001b[0m\u001b[1;33m\u001b[0m\u001b[0m\n\u001b[1;32m----> 6\u001b[1;33m \u001b[1;32mexcept\u001b[0m \u001b[0mTriangleError\u001b[0m\u001b[1;33m:\u001b[0m\u001b[1;33m\u001b[0m\u001b[1;33m\u001b[0m\u001b[0m\n\u001b[0m\u001b[0;32m      7\u001b[0m     \u001b[0mcount\u001b[0m \u001b[1;33m+=\u001b[0m \u001b[1;36m1\u001b[0m\u001b[1;33m\u001b[0m\u001b[1;33m\u001b[0m\u001b[0m\n\u001b[0;32m      8\u001b[0m \u001b[1;33m\u001b[0m\u001b[0m\n",
      "\u001b[1;31mNameError\u001b[0m: name 'TriangleError' is not defined"
     ]
    }
   ],
   "source": [
    "count = 0\n",
    "try:\n",
    "    # los lados de un triángulo deben ser mayores a cero\n",
    "    var = triangle(1.0, 0, 0)\n",
    "    raise TriangleError()\n",
    "except TriangleError:\n",
    "    count += 1\n",
    "    \n",
    "try:\n",
    "    # se debe cumplir el teorema de pitágoras\n",
    "    var = triangle(1, 1, 7)\n",
    "    raise TriangleError()\n",
    "except TriangleError:\n",
    "    count += 1\n",
    "    \n",
    "try:\n",
    "    var = triangle(1, 7, 1)\n",
    "    raise TriangleError()\n",
    "except TriangleError:\n",
    "    count += 1\n",
    "    \n",
    "try:\n",
    "    var = triangle(7, 1, 1)\n",
    "    raise TriangleError()\n",
    "except TriangleError:\n",
    "    count += 1\n",
    "    \n",
    "try:\n",
    "    var = triangle(0, 0, 0)\n",
    "    raise TriangleError()\n",
    "except TriangleError:\n",
    "    count += 1\n",
    "    \n",
    "try:\n",
    "    var = triangle(1, 1, -1)\n",
    "    raise TriangleError()\n",
    "except TriangleError:\n",
    "    count += 1\n",
    "    \n",
    "try:\n",
    "    var = triangle(1, 1, 5)\n",
    "    raise TriangleError()\n",
    "except TriangleError:\n",
    "    count += 1\n",
    "    \n",
    "assert(count == 7)"
   ]
  },
  {
   "cell_type": "markdown",
   "metadata": {
    "id": "7jDBcY8hzTXQ"
   },
   "source": [
    "*El código debe correr sin mostrar \"AssertionError\"*\n",
    "# Dice project\n",
    "Estamos comenzando a desarrollar un juego de la Generala y necesitamos hacer algunas verificaciones, debemos tener en cuenta que un cubilete es un objeto y los 5 dados en su interior serán quienes obtengan un valor en cada lanzamiento. No te olvides que es un juego de azar, y para esto podemos importar un paquete que contenga la funcion random.\n"
   ]
  },
  {
   "cell_type": "code",
   "execution_count": null,
   "metadata": {
    "id": "g7_nzeEun7YN"
   },
   "outputs": [],
   "source": [
    "import random \n",
    "\n",
    "class DiceSet:\n",
    "    def __init__(self):\n",
    "        self._values = None\n",
    "\n",
    "    @property\n",
    "    def values(self):\n",
    "        return self._values\n",
    "\n",
    "    def values_set(self, new_values):\n",
    "        self._values = new_values\n",
    "  \n",
    "    def roll(self, n):\n",
    "        self._values = []\n",
    "        for i in range(n):\n",
    "            self._values.append(random.randint(1,6))\n",
    "        return self._values\n",
    "        # Falta implementar, debe tirar n dados.\n",
    "        # Recordá que la función random.randint(min, max) puede ser utilizada para generar numeros aleatorios\n",
    "        # Empezá a escribir tu código debajo de esta línea\n",
    "        "
   ]
  },
  {
   "cell_type": "markdown",
   "metadata": {},
   "source": [
    "### Tercer problema (2 puntos)\n",
    "Este set verificará si los dados son lanzados y si cada uno de ellos tiene un valor dentro de una lista"
   ]
  },
  {
   "cell_type": "code",
   "execution_count": null,
   "metadata": {
    "id": "uPly1Ey_rJFH"
   },
   "outputs": [],
   "source": [
    "dice = DiceSet()\n",
    "assert(dice)\n",
    "#lanzo 5 dados\n",
    "dice.roll(5)\n",
    "if not isinstance(dice.values, list):\n",
    "    raise Exception(\"debería ser una lista\")\n",
    "assert(5 == len(dice.values))\n",
    "for value in dice.values:\n",
    "    if 1 <= value <= 6:\n",
    "        continue\n",
    "    raise Exception(f\"El valor {str(value):s} debe estar entre 1 y 6\")\n",
    "#lanzo 3 dados\n",
    "dice.roll(3)\n",
    "assert(3 == len(dice.values))\n",
    "#lanzo 1 dado\n",
    "dice.roll(1)\n",
    "assert(1 == len(dice.values))\n",
    "#hago dos lanzamientos y veo si son distintos\n",
    "dice.roll(5)\n",
    "first_time = dice.values\n",
    "dice.roll(5)\n",
    "second_time = dice.values\n",
    "assert(first_time != second_time)"
   ]
  },
  {
   "cell_type": "markdown",
   "metadata": {},
   "source": [
    "### Cuarto problema (1 punto)\n",
    "Si los dados son aleatorios, existe la posibilidad de que dos lanzamientos sean iguales, ¿cómo podrías mostrar que los dados son legales? Un dado es legal si cada numero tiene la misma probabilidad de salir. Podés mostrar tus resultados con tablas o gráficas y una breve explicación. Podés crear las celdas que creas necesarias, tanto para código como para texto en Markdown."
   ]
  },
  {
   "cell_type": "code",
   "execution_count": 9,
   "metadata": {},
   "outputs": [
    {
     "output_type": "stream",
     "name": "stdout",
     "text": [
      "Se lanza 100 veces de un recipiente que contiene 20 dados\n\n|   Numero |   Frecuencia |   Probabilida |\n|----------|--------------|---------------|\n|        1 |          326 |        0.163  |\n|        2 |          317 |        0.1585 |\n|        3 |          328 |        0.164  |\n|        4 |          324 |        0.162  |\n|        5 |          346 |        0.173  |\n|        6 |          359 |        0.1795 |\n\nSumando las probabilidades nos da 1.0 y el total de dados lanzados sera igual a 100 * 20 = 2000 dados\n"
     ]
    }
   ],
   "source": [
    "from tabulate import tabulate\n",
    "\n",
    "# DEFINIMOS LA CANTIDAD DE LANZAMIENTOS Y DADOS EN EL RECIPIENTE\n",
    "n_dados = 20\n",
    "n_lanzamientos = 100\n",
    "\n",
    "# CREAMOS UNA FUNCION QUE DEVUELVA UNA LISTA DE VALORES DE LOS LOS n_lanzamientos DE LOS n_dados\n",
    "def lanzamientos():\n",
    "  TotalDeLanzamientos = []\n",
    "  for i in range(n_lanzamientos):\n",
    "    Tiro = dice.roll(n_dados)\n",
    "    TotalDeLanzamientos += Tiro\n",
    "  return TotalDeLanzamientos\n",
    "\n",
    "# CREAMOS UN FUNCION QUE DEVUELVA UNA LISTA QUE CONTINE 2 LISTAS\n",
    "#ListaDeTotales: cantidad total de veces para cada cara del dado\n",
    "#ListaDeProbabilidades: lista con las probalidades para cada valor\n",
    "\n",
    "def probabilidad():\n",
    "  Cantidades = lanzamientos()\n",
    "  ListaDeTotales = [Cantidades.count(1), Cantidades.count(2), Cantidades.count(3), Cantidades.count(4), Cantidades.count(5), Cantidades.count(6)]\n",
    "  ListaDeProbabilidades = list(map(lambda x: x / len(Cantidades), ListaDeTotales))\n",
    "  return ListaDeProbabilidades, ListaDeTotales\n",
    "\n",
    "Lista = probabilidad()\n",
    "# DE \"Lista\" DEFINIMOS LAS VARIABLES TIPO LISTA DE PROBABILIDAD Y DE LOS TOTALES\n",
    "\n",
    "ListaDeProbabilidades = Lista[0]\n",
    "ListaDeTotales = Lista[1]\n",
    "#print(f'{ListaDeTotales}\\n{ListaDeProbabilidades}\\n')\n",
    "\n",
    "print(f'Se lanza {n_lanzamientos} veces de un recipiente que contiene {n_dados} dados\\n')\n",
    "\n",
    "Tabla = [[i+1, ListaDeTotales[i], ListaDeProbabilidades[i]] for i in range(6)]\n",
    "Cabezera = ['Numero', 'Frecuencia', 'Probabilida']\n",
    "print(tabulate(Tabla, Cabezera, tablefmt=\"github\"))\n",
    "\n",
    "\n",
    "print(f'\\nSumando las probabilidades nos da {sum(ListaDeProbabilidades)} y el total de dados lanzados sera igual a {n_lanzamientos} * {n_dados} = {sum(ListaDeTotales)} dados')\n",
    "\n"
   ]
  },
  {
   "cell_type": "markdown",
   "metadata": {
    "id": "awiBPYUTzbOn"
   },
   "source": [
    "# Greed Project\n",
    "\n",
    "Greed es un juego de dados en los cuales se lanzan 5 dados para acumular puntos, tiene ciertas reglas para calcular el puntaje.\n",
    "\n",
    "* Tres 1 suman 1000 puntos.\n",
    "* Cada 1 adicional a una terna suma 100 puntos.\n",
    "* Tres numeros iguales multiplican su valor por 100, por ejemplo tres 5 suman 500 puntos.\n",
    "* Un 5 que no es parte de una terna suma 50 puntos.\n",
    "* Todo lo demas vale 0 puntos.\n",
    "\n",
    "Ejemplos:\n",
    "````\n",
    "score([1,1,1,5,1]) => 1150 puntos\n",
    "score([2,3,4,6,2]) => 0 puntos\n",
    "score([3,4,5,3,3]) => 350 puntos\n",
    "score([1,5,1,2,4]) => 250 puntos\n",
    "````\n",
    "\n",
    "El objetivo es escribir este sistema de puntajes\n"
   ]
  },
  {
   "cell_type": "code",
   "execution_count": 10,
   "metadata": {
    "id": "lYXYWPiNw3O1"
   },
   "outputs": [],
   "source": [
    "def MasDeUno(lista):\n",
    "    PuntosPorUnos = 0\n",
    "    if lista.count(1) >= 3:\n",
    "        PuntosPorUnos += 1000 + (lista.count(1)-3)*100\n",
    "    elif lista.count(1) < 3:\n",
    "        PuntosPorUnos += 100 * (lista.count(1))\n",
    "    return PuntosPorUnos\n",
    "\n",
    "def TresNumerosRepetidos(lista):\n",
    "    PuntosPorRepeticion = 0\n",
    "    if lista.count(2) >= 3:\n",
    "        PuntosPorRepeticion += 200\n",
    "    elif lista.count(3) >= 3:\n",
    "        PuntosPorRepeticion += 300\n",
    "    elif lista.count(4) >= 3:\n",
    "        PuntosPorRepeticion += 400\n",
    "    elif lista.count(5) >= 3:\n",
    "        PuntosPorRepeticion += 500\n",
    "    elif lista.count(6) >= 3:\n",
    "        PuntosPorRepeticion += 600\n",
    "    return PuntosPorRepeticion\n",
    "\n",
    "def LosCincoMenores(lista):\n",
    "    PuntosPorCinco = 0\n",
    "    if lista.count(5) >= 3 :\n",
    "        PuntosPorCinco += 50*(lista.count(5) - 3) \n",
    "    elif lista.count(5) < 3:\n",
    "        PuntosPorCinco += 50*(lista.count(5))\n",
    "    return PuntosPorCinco\n",
    "\n",
    "def score(lista):\n",
    "    #PuntuacionTotal = 0\n",
    "    PuntuacionTotal = MasDeUno(lista) +TresNumerosRepetidos(lista) +LosCincoMenores(lista)\n",
    "    return PuntuacionTotal"
   ]
  },
  {
   "cell_type": "markdown",
   "metadata": {},
   "source": [
    "### Quinto problema (2 puntos)\n",
    "Aquí vamos a verificar si el sistema de puntuación funciona con algunas jugadas conocidas."
   ]
  },
  {
   "cell_type": "code",
   "execution_count": 11,
   "metadata": {
    "id": "pjpnWjXmxPee"
   },
   "outputs": [],
   "source": [
    "assert(50 == score([5]))\n",
    "assert(100 == score([1]))\n",
    "assert(300 == score([1,5,5,1]))\n",
    "assert(0 == score([2,3,4,6]))\n",
    "assert(1000 == score([1,1,1]))\n",
    "assert(200 == score([2,2,2]))\n",
    "assert(300 == score([3,3,3]))\n",
    "assert(400 == score([4,4,4]))\n",
    "assert(500 == score([5,5,5]))\n",
    "assert(600 == score([6,6,6]))\n",
    "assert(250 == score([2,5,2,2,3]))\n",
    "assert(550 == score([5,5,5,5]))\n",
    "assert(1150 == score([1,1,1,5,1]))\n",
    "assert(300 == score([1,2,2,2]))\n",
    "assert(350 == score([1,5,2,2,2]))"
   ]
  },
  {
   "cell_type": "markdown",
   "metadata": {},
   "source": [
    "### Sexto problema (2 puntos)\n",
    "Usando la función \"score\" puntúa una jugada aleatoria de *Dice Project*, no te olvides de lanzar nuevamente los dados con ``dice.roll(5)``, mostrar sus valores y el puntaje obtenido."
   ]
  },
  {
   "cell_type": "code",
   "execution_count": 12,
   "metadata": {},
   "outputs": [
    {
     "output_type": "stream",
     "name": "stdout",
     "text": [
      " Tiro    Valores        Puntos   \n|  1  |[1, 2, 3, 2, 5]|   150    |\n|  2  |[1, 5, 5, 2, 4]|   200    |\n|  3  |[1, 5, 3, 6, 1]|   250    |\n|  4  |[2, 2, 2, 3, 5]|   250    |\n|  5  |[2, 1, 4, 5, 4]|   150    |\n|  6  |[6, 1, 2, 4, 4]|   100    |\n|  7  |[1, 4, 2, 1, 3]|   200    |\n|  8  |[1, 4, 5, 1, 3]|   250    |\n|  9  |[1, 1, 5, 1, 4]|   1050   |\n| 10  |[6, 3, 5, 6, 3]|    50    |\n"
     ]
    }
   ],
   "source": [
    "def juego(n):\n",
    "    ListaDeValores = []\n",
    "    ListaDePuntos = []\n",
    "    for lanzamiento in range(1,n+1):\n",
    "      ListaDeValores.append(dice.roll(5))\n",
    "    for i in ListaDeValores:\n",
    "      ListaDePuntos.append(score(i))\n",
    "    return ListaDeValores, ListaDePuntos\n",
    "\n",
    "Lista = juego(10)\n",
    "ListaDeValores = (Lista[0])\n",
    "ListaDePuntos = Lista[1]\n",
    "#print(f'{ListaDeValores}\\n{ListaDePuntos}\\n')\n",
    "print('{:^5}{:^16}{:^12}'.format(' Tiro','Valores', 'Puntos'))\n",
    "for i in range(len(ListaDeValores)):\n",
    "  print(f'|{i+1:^5}|{ListaDeValores[i]}|{ListaDePuntos[i]:^10}|')\n"
   ]
  },
  {
   "cell_type": "code",
   "execution_count": null,
   "metadata": {},
   "outputs": [],
   "source": []
  },
  {
   "cell_type": "code",
   "execution_count": 57,
   "metadata": {},
   "outputs": [],
   "source": [
    "\n",
    "\n",
    "\n"
   ]
  },
  {
   "cell_type": "code",
   "execution_count": null,
   "metadata": {},
   "outputs": [],
   "source": []
  }
 ],
 "metadata": {
  "colab": {
   "collapsed_sections": [],
   "name": "Evaluacion.ipynb",
   "provenance": []
  },
  "kernelspec": {
   "display_name": "Python 3",
   "language": "python",
   "name": "python3"
  },
  "language_info": {
   "codemirror_mode": {
    "name": "ipython",
    "version": 3
   },
   "file_extension": ".py",
   "mimetype": "text/x-python",
   "name": "python",
   "nbconvert_exporter": "python",
   "pygments_lexer": "ipython3",
   "version": "3.8.5-final"
  }
 },
 "nbformat": 4,
 "nbformat_minor": 1
}