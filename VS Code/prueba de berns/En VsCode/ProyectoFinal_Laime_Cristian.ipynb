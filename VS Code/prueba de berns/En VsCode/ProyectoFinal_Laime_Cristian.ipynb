{
  "nbformat": 4,
  "nbformat_minor": 0,
  "metadata": {
    "colab": {
      "name": "ProyectoFinal_Laime_Cristian.ipynb",
      "provenance": [],
      "collapsed_sections": []
    },
    "kernelspec": {
      "display_name": "Python 3",
      "language": "python",
      "name": "python3"
    },
    "language_info": {
      "codemirror_mode": {
        "name": "ipython",
        "version": 3
      },
      "file_extension": ".py",
      "mimetype": "text/x-python",
      "name": "python",
      "nbconvert_exporter": "python",
      "pygments_lexer": "ipython3",
      "version": "3.8.5-final"
    }
  },
  "cells": [
    {
      "cell_type": "markdown",
      "metadata": {
        "id": "Kw9oLJHPg3qs"
      },
      "source": [
        "# Triangle project\n",
        "Este ejercicio debe pasar dos sets de pruebas, el primero de ellos verificará si la función puede clasificar triángulos, mientras que el otro set evalúa la robustez ante triangulos ilegales."
      ]
    },
    {
      "cell_type": "code",
      "metadata": {
        "id": "PhKmDVRqhEqS"
      },
      "source": [
        "def triangle(a, b, c):\n",
        "  \"\"\"Triangle es una funcion que analiza las longitudes de los lados de un triángulo\n",
        "  (representados por a, b y c) y devuelve el tipo de triangulo.\n",
        "      La salida es:\n",
        "        'equilatero'  si todos los lados son iguales\n",
        "        'isosceles'   si dos lados son iguales\n",
        "        'escaleno'     si todos los lados son distintos\n",
        "  \"\"\"\n",
        "# BORRAR \"PASS\" Y ESCRIBIR EL CÓDIGO DEBAJO DE ESTA LINEA PARA RESOLVER EL PROBLEMA\n",
        "def triangle(a, b, c):\n",
        "    \n",
        "    if a <= 0 or b <= 0 or c <= 0:\n",
        "        print('Triangulo ILEGAL')\n",
        "    else:\n",
        "        if a == b and b == c :\n",
        "            print('Triangulo equilatero')\n",
        "            return 'equilatero'             \n",
        "        elif a == b or b == c or a == c:\n",
        "            print('Triangulo isosceles')                            \n",
        "            return 'isosceles'  \n",
        "        elif a != b and b != c and a != c:\n",
        "            print('Triangulo escaleno')                              \n",
        "            return 'escaleno'\n",
        "\n",
        "# ESTO NO HAY QUE CAMBIARLO\n",
        "class TriangleError(Exception):\n",
        "    pass\n"
      ],
      "execution_count": 2,
      "outputs": []
    },
    {
      "cell_type": "markdown",
      "metadata": {
        "id": "n_wojm4o6aF2"
      },
      "source": [
        "### Primer problema (2 puntos)\n",
        "Editar el código de la función anterior para que pase las siguientes pruebas:"
      ]
    },
    {
      "cell_type": "code",
      "metadata": {
        "id": "NYL4XrephtRn",
        "colab": {
          "base_uri": "https://localhost:8080/"
        },
        "outputId": "e87f7354-4364-4f57-a86f-9e5ee730a8c8"
      },
      "source": [
        "assert('equilatero' == triangle(2, 2, 2))\n",
        "assert('equilatero' == triangle(10, 10, 10))\n",
        "assert('isosceles' == triangle(3, 4, 4))\n",
        "assert('isosceles' == triangle(4, 3, 4))\n",
        "assert('isosceles' == triangle(4, 4, 3))\n",
        "assert('isosceles' == triangle(10, 10, 2))\n",
        "assert('escaleno' == triangle(3, 4, 5))\n",
        "assert('escaleno' == triangle(10, 11, 12))\n",
        "assert('escaleno' == triangle(5, 4, 2))"
      ],
      "execution_count": 3,
      "outputs": [
        {
          "output_type": "stream",
          "text": [
            "Triangulo equilatero\n",
            "Triangulo equilatero\n",
            "Triangulo isosceles\n",
            "Triangulo isosceles\n",
            "Triangulo isosceles\n",
            "Triangulo isosceles\n",
            "Triangulo escaleno\n",
            "Triangulo escaleno\n",
            "Triangulo escaleno\n"
          ],
          "name": "stdout"
        }
      ]
    },
    {
      "cell_type": "markdown",
      "metadata": {
        "id": "xdVCp32_6aF9"
      },
      "source": [
        "*El código debe correr sin mostrar \"AssertionError\"*\n",
        "### Segundo problema (1 punto)\n",
        "Se verificará el código con triángulos ilegales. Mejorá el código de la función triangle para que llame a la función TriangleError en caso de que se haya ingresado los parámetros de un triángulo ilegal.\n",
        "\n",
        "*AYUDA* recordá el uso de la instrucción \"raise\""
      ]
    },
    {
      "cell_type": "code",
      "metadata": {
        "id": "XaUDlBYDkTaJ",
        "colab": {
          "base_uri": "https://localhost:8080/"
        },
        "outputId": "48fb808b-007b-4483-d2f0-2f5bd3781525"
      },
      "source": [
        "count = 0\n",
        "try:\n",
        "    # los lados de un triángulo deben ser mayores a cero\n",
        "    var = triangle(1.0, 0, 0)\n",
        "    raise TriangleError()\n",
        "except TriangleError:\n",
        "    count += 1\n",
        "    \n",
        "try:\n",
        "    # se debe cumplir el teorema de pitágoras\n",
        "    var = triangle(1, 1, 7)\n",
        "    raise TriangleError()\n",
        "except TriangleError:\n",
        "    count += 1\n",
        "    \n",
        "try:\n",
        "    var = triangle(1, 7, 1)\n",
        "    raise TriangleError()\n",
        "except TriangleError:\n",
        "    count += 1\n",
        "    \n",
        "try:\n",
        "    var = triangle(7, 1, 1)\n",
        "    raise TriangleError()\n",
        "except TriangleError:\n",
        "    count += 1\n",
        "    \n",
        "try:\n",
        "    var = triangle(0, 0, 0)\n",
        "    raise TriangleError()\n",
        "except TriangleError:\n",
        "    count += 1\n",
        "    \n",
        "try:\n",
        "    var = triangle(1, 1, -1)\n",
        "    raise TriangleError()\n",
        "except TriangleError:\n",
        "    count += 1\n",
        "    \n",
        "try:\n",
        "    var = triangle(1, 1, 5)\n",
        "    raise TriangleError()\n",
        "except TriangleError:\n",
        "    count += 1\n",
        "    \n",
        "assert(count == 7)"
      ],
      "execution_count": 4,
      "outputs": [
        {
          "output_type": "stream",
          "text": [
            "Triangulo ILEGAL\n",
            "Triangulo isosceles\n",
            "Triangulo isosceles\n",
            "Triangulo isosceles\n",
            "Triangulo ILEGAL\n",
            "Triangulo ILEGAL\n",
            "Triangulo isosceles\n"
          ],
          "name": "stdout"
        }
      ]
    },
    {
      "cell_type": "markdown",
      "metadata": {
        "id": "7jDBcY8hzTXQ"
      },
      "source": [
        "*El código debe correr sin mostrar \"AssertionError\"*\n",
        "# Dice project\n",
        "Estamos comenzando a desarrollar un juego de la Generala y necesitamos hacer algunas verificaciones, debemos tener en cuenta que un cubilete es un objeto y los 5 dados en su interior serán quienes obtengan un valor en cada lanzamiento. No te olvides que es un juego de azar, y para esto podemos importar un paquete que contenga la funcion random.\n"
      ]
    },
    {
      "cell_type": "code",
      "metadata": {
        "id": "g7_nzeEun7YN"
      },
      "source": [
        "import random \n",
        "\n",
        "class DiceSet:\n",
        "    def __init__(self):\n",
        "        self._values = None\n",
        "\n",
        "    @property\n",
        "    def values(self):\n",
        "        return self._values\n",
        "\n",
        "    def values_set(self, new_values):\n",
        "        self._values = new_values\n",
        "  \n",
        "    def roll(self, n):\n",
        "        self._values = []\n",
        "        for i in range(n):\n",
        "            self._values.append(random.randint(1,6))\n",
        "        return self._values\n",
        "        # Falta implementar, debe tirar n dados.\n",
        "        # Recordá que la función random.randint(min, max) puede ser utilizada para generar numeros aleatorios\n",
        "        # Empezá a escribir tu código debajo de esta línea\n",
        "        "
      ],
      "execution_count": 5,
      "outputs": []
    },
    {
      "cell_type": "markdown",
      "metadata": {
        "id": "WGcfgubD6aGD"
      },
      "source": [
        "### Tercer problema (2 puntos)\n",
        "Este set verificará si los dados son lanzados y si cada uno de ellos tiene un valor dentro de una lista"
      ]
    },
    {
      "cell_type": "code",
      "metadata": {
        "id": "uPly1Ey_rJFH"
      },
      "source": [
        "dice = DiceSet()\n",
        "assert(dice)\n",
        "#lanzo 5 dados\n",
        "dice.roll(5)\n",
        "if not isinstance(dice.values, list):\n",
        "    raise Exception(\"debería ser una lista\")\n",
        "assert(5 == len(dice.values))\n",
        "for value in dice.values:\n",
        "    if 1 <= value <= 6:\n",
        "        continue\n",
        "    raise Exception(f\"El valor {str(value):s} debe estar entre 1 y 6\")\n",
        "#lanzo 3 dados\n",
        "dice.roll(3)\n",
        "assert(3 == len(dice.values))\n",
        "#lanzo 1 dado\n",
        "dice.roll(1)\n",
        "assert(1 == len(dice.values))\n",
        "#hago dos lanzamientos y veo si son distintos\n",
        "dice.roll(5)\n",
        "first_time = dice.values\n",
        "dice.roll(5)\n",
        "second_time = dice.values\n",
        "assert(first_time != second_time)"
      ],
      "execution_count": 6,
      "outputs": []
    },
    {
      "cell_type": "markdown",
      "metadata": {
        "id": "RZYubIzJ6aGG"
      },
      "source": [
        "### Cuarto problema (1 punto)\n",
        "Si los dados son aleatorios, existe la posibilidad de que dos lanzamientos sean iguales, ¿cómo podrías mostrar que los dados son legales? Un dado es legal si cada numero tiene la misma probabilidad de salir. Podés mostrar tus resultados con tablas o gráficas y una breve explicación. Podés crear las celdas que creas necesarias, tanto para código como para texto en Markdown."
      ]
    },
    {
      "cell_type": "code",
      "metadata": {
        "colab": {
          "base_uri": "https://localhost:8080/"
        },
        "id": "bWQxCXrmC3Os",
        "outputId": "9468b19d-4334-430e-eda3-8df7fd8684fd"
      },
      "source": [
        "from tabulate import tabulate\n",
        "\n",
        "# DEFINIMOS LA CANTIDAD DE LANZAMIENTOS Y DADOS EN EL RECIPIENTE\n",
        "n_dados = 20\n",
        "n_lanzamientos = 100\n",
        "\n",
        "# CREAMOS UNA FUNCION QUE DEVUELVA UNA LISTA DE VALORES DE LOS LOS n_lanzamientos DE LOS n_dados\n",
        "def lanzamientos():\n",
        "  TotalDeLanzamientos = []\n",
        "  for i in range(n_lanzamientos):\n",
        "    Tiro = dice.roll(n_dados)\n",
        "    TotalDeLanzamientos += Tiro\n",
        "  return TotalDeLanzamientos\n",
        "\n",
        "# CREAMOS UN FUNCION QUE DEVUELVA UNA LISTA QUE CONTINE 2 LISTAS\n",
        "#ListaDeTotales: cantidad total de veces para cada cara del dado\n",
        "#ListaDeProbabilidades: lista con las probalidades para cada valor\n",
        "\n",
        "def probabilidad():\n",
        "  Cantidades = lanzamientos()\n",
        "  ListaDeTotales = [Cantidades.count(1), Cantidades.count(2), Cantidades.count(3), Cantidades.count(4), Cantidades.count(5), Cantidades.count(6)]\n",
        "  ListaDeProbabilidades = list(map(lambda x: x / len(Cantidades), ListaDeTotales))\n",
        "  return ListaDeProbabilidades, ListaDeTotales\n",
        "\n",
        "Lista = probabilidad()\n",
        "# DE \"Lista\" DEFINIMOS LAS VARIABLES TIPO LISTA DE PROBABILIDAD Y DE LOS TOTALES\n",
        "\n",
        "ListaDeProbabilidades = Lista[0]\n",
        "ListaDeTotales = Lista[1]\n",
        "#print(f'{ListaDeTotales}\\n{ListaDeProbabilidades}\\n')\n",
        "\n",
        "print(f'Se lanza {n_lanzamientos} veces de un recipiente que contiene {n_dados} dados\\n')\n",
        "\n",
        "Tabla = [[i+1, ListaDeTotales[i], ListaDeProbabilidades[i]] for i in range(6)]\n",
        "Cabezera = ['Numero', 'Frecuencia', 'Probabilida']\n",
        "print(tabulate(Tabla, Cabezera, tablefmt=\"github\"))\n",
        "\n",
        "\n",
        "print(f'\\nSumando las probabilidades nos da {sum(ListaDeProbabilidades)} y el total de dados lanzados sera igual a {n_lanzamientos} * {n_dados} = {sum(ListaDeTotales)} dados')\n",
        "\n",
        "\n",
        "\n",
        "\n"
      ],
      "execution_count": 7,
      "outputs": [
        {
          "output_type": "stream",
          "text": [
            "Se lanza 100 veces de un recipiente que contiene 20 dados\n",
            "\n",
            "|   Numero |   Frecuencia |   Probabilida |\n",
            "|----------|--------------|---------------|\n",
            "|        1 |          397 |        0.1985 |\n",
            "|        2 |          321 |        0.1605 |\n",
            "|        3 |          308 |        0.154  |\n",
            "|        4 |          333 |        0.1665 |\n",
            "|        5 |          312 |        0.156  |\n",
            "|        6 |          329 |        0.1645 |\n",
            "\n",
            "Sumando las probabilidades nos da 1.0 y el total de dados lanzados sera igual a 100 * 20 = 2000 dados\n"
          ],
          "name": "stdout"
        }
      ]
    },
    {
      "cell_type": "markdown",
      "metadata": {
        "id": "awiBPYUTzbOn"
      },
      "source": [
        "# Greed Project\n",
        "\n",
        "Greed es un juego de dados en los cuales se lanzan 5 dados para acumular puntos, tiene ciertas reglas para calcular el puntaje.\n",
        "\n",
        "* Tres 1 suman 1000 puntos.\n",
        "* Cada 1 adicional a una terna suma 100 puntos.\n",
        "* Tres numeros iguales multiplican su valor por 100, por ejemplo tres 5 suman 500 puntos.\n",
        "* Un 5 que no es parte de una terna suma 50 puntos.\n",
        "* Todo lo demas vale 0 puntos.\n",
        "\n",
        "Ejemplos:\n",
        "````\n",
        "score([1,1,1,5,1]) => 1150 puntos\n",
        "score([2,3,4,6,2]) => 0 puntos\n",
        "score([3,4,5,3,3]) => 350 puntos\n",
        "score([1,5,1,2,4]) => 250 puntos\n",
        "````\n",
        "\n",
        "El objetivo es escribir este sistema de puntajes\n"
      ]
    },
    {
      "cell_type": "code",
      "metadata": {
        "id": "lYXYWPiNw3O1"
      },
      "source": [
        "def MasDeUno(lista):\n",
        "    PuntosPorUnos = 0\n",
        "    if lista.count(1) >= 3:\n",
        "        PuntosPorUnos += 1000 + (lista.count(1)-3)*100\n",
        "    elif lista.count(1) < 3:\n",
        "        PuntosPorUnos += 100 * (lista.count(1))\n",
        "    return PuntosPorUnos\n",
        "\n",
        "def TresNumerosRepetidos(lista):\n",
        "    PuntosPorRepeticion = 0\n",
        "    if lista.count(2) >= 3:\n",
        "        PuntosPorRepeticion += 200\n",
        "    elif lista.count(3) >= 3:\n",
        "        PuntosPorRepeticion += 300\n",
        "    elif lista.count(4) >= 3:\n",
        "        PuntosPorRepeticion += 400\n",
        "    elif lista.count(5) >= 3:\n",
        "        PuntosPorRepeticion += 500\n",
        "    elif lista.count(6) >= 3:\n",
        "        PuntosPorRepeticion += 600\n",
        "    return PuntosPorRepeticion\n",
        "\n",
        "def LosCincoMenores(lista):\n",
        "    PuntosPorCinco = 0\n",
        "    if lista.count(5) >= 3 :\n",
        "        PuntosPorCinco += 50*(lista.count(5) - 3) \n",
        "    elif lista.count(5) < 3:\n",
        "        PuntosPorCinco += 50*(lista.count(5))\n",
        "    return PuntosPorCinco\n",
        "\n",
        "def score(lista):\n",
        "    #PuntuacionTotal = 0\n",
        "    PuntuacionTotal = MasDeUno(lista) +TresNumerosRepetidos(lista) +LosCincoMenores(lista)\n",
        "    return PuntuacionTotal"
      ],
      "execution_count": null,
      "outputs": []
    },
    {
      "cell_type": "markdown",
      "metadata": {
        "id": "6Sw2ImiR6aGM"
      },
      "source": [
        "### Quinto problema (2 puntos)\n",
        "Aquí vamos a verificar si el sistema de puntuación funciona con algunas jugadas conocidas."
      ]
    },
    {
      "cell_type": "code",
      "metadata": {
        "id": "pjpnWjXmxPee"
      },
      "source": [
        "assert(50 == score([5]))\n",
        "assert(100 == score([1]))\n",
        "assert(300 == score([1,5,5,1]))\n",
        "assert(0 == score([2,3,4,6]))\n",
        "assert(1000 == score([1,1,1]))\n",
        "assert(200 == score([2,2,2]))\n",
        "assert(300 == score([3,3,3]))\n",
        "assert(400 == score([4,4,4]))\n",
        "assert(500 == score([5,5,5]))\n",
        "assert(600 == score([6,6,6]))\n",
        "assert(250 == score([2,5,2,2,3]))\n",
        "assert(550 == score([5,5,5,5]))\n",
        "assert(1150 == score([1,1,1,5,1]))\n",
        "assert(300 == score([1,2,2,2]))\n",
        "assert(350 == score([1,5,2,2,2]))"
      ],
      "execution_count": null,
      "outputs": []
    },
    {
      "cell_type": "markdown",
      "metadata": {
        "id": "up5iBh7O6aGQ"
      },
      "source": [
        "### Sexto problema (2 puntos)\n",
        "Usando la función \"score\" puntúa una jugada aleatoria de *Dice Project*, no te olvides de lanzar nuevamente los dados con ``dice.roll(5)``, mostrar sus valores y el puntaje obtenido."
      ]
    },
    {
      "cell_type": "code",
      "metadata": {
        "id": "jgiZjpge6aGR",
        "colab": {
          "base_uri": "https://localhost:8080/"
        },
        "outputId": "de5e2603-3b82-4aa0-85fe-9a0258b1923f"
      },
      "source": [
        "def juego(n):\n",
        "    ListaDeValores = []\n",
        "    ListaDePuntos = []\n",
        "    for lanzamiento in range(1,n+1):\n",
        "      ListaDeValores.append(dice.roll(5))\n",
        "    for i in ListaDeValores:\n",
        "      ListaDePuntos.append(score(i))\n",
        "    return ListaDeValores, ListaDePuntos\n",
        "\n",
        "Lista = juego(10)\n",
        "ListaDeValores = (Lista[0])\n",
        "ListaDePuntos = Lista[1]\n",
        "#print(f'{ListaDeValores}\\n{ListaDePuntos}\\n')\n",
        "print('{:^10}{:^16}{:^12}'.format('Tiro','Valores', 'Puntos'))\n",
        "for i in range(len(ListaDeValores)):\n",
        "  print(f'|{i+1:^10}|{ListaDeValores[i]}|{ListaDePuntos[i]:^10}|')\n"
      ],
      "execution_count": null,
      "outputs": [
        {
          "output_type": "stream",
          "text": [
            "   Tiro       Valores        Puntos   \n",
            "|    1     |[6, 5, 5, 6, 1]|   200    |\n",
            "|    2     |[6, 1, 4, 3, 3]|   100    |\n",
            "|    3     |[1, 3, 1, 1, 5]|   1050   |\n",
            "|    4     |[4, 6, 1, 3, 4]|   100    |\n",
            "|    5     |[5, 1, 6, 1, 6]|   250    |\n",
            "|    6     |[2, 5, 1, 5, 6]|   200    |\n",
            "|    7     |[4, 3, 4, 5, 2]|    50    |\n",
            "|    8     |[5, 2, 5, 6, 3]|   100    |\n",
            "|    9     |[6, 3, 5, 4, 6]|    50    |\n",
            "|    10    |[4, 6, 1, 6, 3]|   100    |\n"
          ],
          "name": "stdout"
        }
      ]
    }
  ]
}