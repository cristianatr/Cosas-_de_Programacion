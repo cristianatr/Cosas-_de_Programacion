{
 "cells": [
  {
   "cell_type": "markdown",
   "metadata": {
    "id": "Kw9oLJHPg3qs"
   },
   "source": [
    "# Triangle project\n",
    "Este ejercicio debe pasar dos sets de pruebas, el primero de ellos verificará si la función puede clasificar triángulos, mientras que el otro set evalúa la robustez ante triangulos ilegales."
   ]
  },
  {
   "cell_type": "code",
   "execution_count": null,
   "metadata": {
    "id": "PhKmDVRqhEqS"
   },
   "outputs": [],
   "source": [
    "def triangle(a, b, c):\n",
    "  \"\"\"Triangle es una funcion que analiza las longitudes de los lados de un triángulo\n",
    "  (representados por a, b y c) y devuelve el tipo de triangulo.\n",
    "      La salida es:\n",
    "        'equilatero'  si todos los lados son iguales\n",
    "        'isosceles'   si dos lados son iguales\n",
    "        'escaleno'     si todos los lados son distintos\n",
    "  \"\"\"\n",
    "# BORRAR \"PASS\" Y ESCRIBIR EL CÓDIGO DEBAJO DE ESTA LINEA PARA RESOLVER EL PROBLEMA\n",
    "\n",
    "\n",
    "# ESTO NO HAY QUE CAMBIARLO\n",
    "class TriangleError(Exception):\n",
    "  pass\n"
   ]
  },
  {
   "cell_type": "markdown",
   "metadata": {
    "id": "CzPiUTsLVb4V"
   },
   "source": [
    "# Primer SET de Prueba\n",
    "##### *Verificacion si la funcion \" triangle(a, b, c): \" puede clasificar triangulso.*\n",
    "\n"
   ]
  },
  {
   "cell_type": "code",
   "execution_count": 2,
   "metadata": {
    "executionInfo": {
     "elapsed": 938,
     "status": "ok",
     "timestamp": 1608736197012,
     "user": {
      "displayName": "Cristian Laime",
      "photoUrl": "https://lh3.googleusercontent.com/a-/AOh14Ghcn3r7tfXvnGOIU_95MVtmvRXMRjpxvlM5bJ3jOg=s64",
      "userId": "12549409156781260971"
     },
     "user_tz": 180
    },
    "id": "nV2zdA0WVlfs"
   },
   "outputs": [],
   "source": [
    "def triangle(a, b, c):\n",
    "    tipos = ['Equilatero', 'Isosceles', 'Escaleno']\n",
    "    if a > 0 and b > 0 and c > 0 :\n",
    "        if a == b and b == c and a == c:\n",
    "            return tipos[0]             #verifica si es un triangulo equilatero\n",
    "        elif a == b or b == c or a == c:                              #verifica si es un t.isoceles\n",
    "            return tipos[1]  \n",
    "        elif a != b and b != c and a != c:                              #verificaa si es un t.esclonado\n",
    "            return tipos[2] \n",
    "    else:\n",
    "        return 'Valor no contemplado'\n",
    "    \n",
    "class TriangleError(Exception):\n",
    "  pass"
   ]
  },
  {
   "cell_type": "markdown",
   "metadata": {
    "id": "hUMfDKAc7oAF"
   },
   "source": [
    "### Primer problema (2 puntos)\n",
    "Editar el código de la función anterior para que pase las siguientes pruebas:"
   ]
  },
  {
   "cell_type": "code",
   "execution_count": 3,
   "metadata": {
    "colab": {
     "base_uri": "https://localhost:8080/",
     "height": 299
    },
    "executionInfo": {
     "elapsed": 856,
     "status": "error",
     "timestamp": 1608736205521,
     "user": {
      "displayName": "Cristian Laime",
      "photoUrl": "https://lh3.googleusercontent.com/a-/AOh14Ghcn3r7tfXvnGOIU_95MVtmvRXMRjpxvlM5bJ3jOg=s64",
      "userId": "12549409156781260971"
     },
     "user_tz": 180
    },
    "id": "NYL4XrephtRn",
    "outputId": "53c39b40-54b3-43b4-e8ca-d5d7b90abf62"
   },
   "outputs": [],
   "source": [
    "triangle(2, 2, 2)\n",
    "assert('Equilatero' == triangle(2, 2, 2))\n",
    "\n",
    "triangle(10, 10, 10)\n",
    "assert('Equilatero' == triangle(10, 10, 10))\n",
    "\n",
    "triangle(3, 4, 4)\n",
    "assert('Isosceles' == triangle(3, 4, 4))\n",
    "\n",
    "triangle(4, 3, 4)\n",
    "assert('Isosceles' == triangle(4, 3, 4))\n",
    "\n",
    "triangle(4, 4, 3)\n",
    "assert('Isosceles' == triangle(4, 4, 3))\n",
    "\n",
    "triangle(10, 10, 2)\n",
    "assert('Isosceles' == triangle(10, 10, 2))\n",
    "\n",
    "triangle(3, 4, 5)\n",
    "assert('Escaleno' == triangle(3, 4, 5))\n",
    "\n",
    "triangle(10, 11, 12)\n",
    "assert('Escaleno' == triangle(10, 11, 12))\n",
    "\n",
    "triangle(5, 4, 2)\n",
    "assert('Escaleno' == triangle(5, 4, 2))"
   ]
  },
  {
   "cell_type": "markdown",
   "metadata": {
    "id": "QLR4n3om7oAI"
   },
   "source": [
    "*El código debe correr sin mostrar \"AssertionError\"*\n",
    "### Segundo problema (1 punto)\n",
    "Se verificará el código con triángulos ilegales. Mejorá el código de la función triangle para que llame a la función TriangleError en caso de que se haya ingresado los parámetros de un triángulo ilegal.\n",
    "\n",
    "*AYUDA* recordá el uso de la instrucción \"raise\""
   ]
  },
  {
   "cell_type": "markdown",
   "metadata": {
    "id": "7jDBcY8hzTXQ"
   },
   "source": [
    "*El código debe correr sin mostrar \"AssertionError\"*\n",
    "# Dice project\n",
    "Estamos comenzando a desarrollar un juego de la Generala y necesitamos hacer algunas verificaciones, debemos tener en cuenta que un cubilete es un objeto y los 5 dados en su interior serán quienes obtengan un valor en cada lanzamiento. No te olvides que es un juego de azar, y para esto podemos importar un paquete que contenga la funcion random.\n"
   ]
  },
  {
   "cell_type": "code",
   "execution_count": 1,
   "metadata": {
    "id": "g7_nzeEun7YN"
   },
   "outputs": [
    {
     "ename": "SyntaxError",
     "evalue": "unexpected EOF while parsing (<ipython-input-1-12329170b761>, line 17)",
     "output_type": "error",
     "traceback": [
      "\u001b[1;36m  File \u001b[1;32m\"<ipython-input-1-12329170b761>\"\u001b[1;36m, line \u001b[1;32m17\u001b[0m\n\u001b[1;33m    \u001b[0m\n\u001b[1;37m    ^\u001b[0m\n\u001b[1;31mSyntaxError\u001b[0m\u001b[1;31m:\u001b[0m unexpected EOF while parsing\n"
     ]
    }
   ],
   "source": [
    "# importar random\n",
    "\n",
    "class DiceSet:\n",
    "    def __init__(self):\n",
    "        self._values = None\n",
    "    @property\n",
    "    def values(self):\n",
    "        return self._values\n",
    "    \n",
    "    def values_set(self, new_values):\n",
    "        self._values = new_values\n",
    "    \n",
    "    def roll(self, n):\n",
    "        # Falta implementar, debe tirar n dados.\n",
    "        # Recordá que la función random.randint(min, max) puede ser utilizada para generar numeros aleatorios\n",
    "        # Empezá a escribir tu código debajo de esta línea\n",
    "        "
   ]
  },
  {
   "cell_type": "markdown",
   "metadata": {
    "id": "XBqcpxTp7oAO"
   },
   "source": [
    "### Tercer problema (2 puntos)\n",
    "Este set verificará si los dados son lanzados y si cada uno de ellos tiene un valor dentro de una lista"
   ]
  },
  {
   "cell_type": "code",
   "execution_count": null,
   "metadata": {
    "id": "uPly1Ey_rJFH"
   },
   "outputs": [],
   "source": [
    "dice = DiceSet()\n",
    "assert(dice)\n",
    "#lanzo 5 dados\n",
    "dice.roll(5)\n",
    "if not isinstance(dice.values, list):\n",
    "  raise Exception(\"debería ser una lista\")\n",
    "assert(5 == len(dice.values))\n",
    "for value in dice.values:\n",
    "    if 1 <= value <= 6:\n",
    "      continue\n",
    "    raise Exception(f\"El valor {str(value):s} debe estar entre 1 y 6\")\n",
    "#lanzo 3 dados\n",
    "dice.roll(3)\n",
    "assert(3 == len(dice.values))\n",
    "#lanzo 1 dado\n",
    "dice.roll(1)\n",
    "assert(1 == len(dice.values))\n",
    "#hago dos lanzamientos y veo si son distintos\n",
    "dice.roll(5)\n",
    "first_time = dice.values\n",
    "dice.roll(5)\n",
    "second_time = dice.values\n",
    "assert(first_time != second_time)"
   ]
  },
  {
   "cell_type": "markdown",
   "metadata": {
    "id": "Y8LEV-n97oAR"
   },
   "source": [
    "### Cuarto problema (1 punto)\n",
    "Si los dados son aleatorios, existe la posibilidad de que dos lanzamientos sean iguales, ¿cómo podrías mostrar que los dados son legales? Un dado es legal si cada numero tiene la misma probabilidad de salir. Podés mostrar tus resultados con tablas o gráficas y una breve explicación. Podés crear las celdas que creas necesarias, tanto para código como para texto en Markdown."
   ]
  },
  {
   "cell_type": "code",
   "execution_count": null,
   "metadata": {
    "id": "-9adYLJM7oAS"
   },
   "outputs": [],
   "source": []
  },
  {
   "cell_type": "markdown",
   "metadata": {
    "id": "awiBPYUTzbOn"
   },
   "source": [
    "# Greed Project\n",
    "\n",
    "Greed es un juego de dados en los cuales se lanzan 5 dados para acumular puntos, tiene ciertas reglas para calcular el puntaje.\n",
    "\n",
    "* Tres 1 suman 1000 puntos.\n",
    "* Cada 1 adicional a una terna suma 100 puntos.\n",
    "* Tres numeros iguales multiplican su valor por 100, por ejemplo tres 5 suman 500 puntos.\n",
    "* Un 5 que no es parte de una terna suma 50 puntos.\n",
    "* Todo lo demas vale 0 puntos.\n",
    "\n",
    "Ejemplos:\n",
    "````\n",
    "score([1,1,1,5,1]) => 1150 puntos\n",
    "score([2,3,4,6,2]) => 0 puntos\n",
    "score([3,4,5,3,3]) => 350 puntos\n",
    "score([1,5,1,2,4]) => 250 puntos\n",
    "````\n",
    "\n",
    "El objetivo es escribir este sistema de puntajes\n"
   ]
  },
  {
   "cell_type": "code",
   "execution_count": null,
   "metadata": {
    "id": "lYXYWPiNw3O1"
   },
   "outputs": [],
   "source": [
    "def score(lista):\n",
    "    # Escribí el código necesario\n"
   ]
  },
  {
   "cell_type": "markdown",
   "metadata": {
    "id": "Mu9k_hxg7oAV"
   },
   "source": [
    "### Quinto problema (2 puntos)\n",
    "Aquí vamos a verificar si el sistema de puntuación funciona con algunas jugadas conocidas."
   ]
  },
  {
   "cell_type": "code",
   "execution_count": null,
   "metadata": {
    "id": "pjpnWjXmxPee"
   },
   "outputs": [],
   "source": [
    "assert(50 == score([5]))\n",
    "assert(100 == score([1]))\n",
    "assert(300 == score([1,5,5,1]))\n",
    "assert(0 == score([2,3,4,6]))\n",
    "assert(1000 == score([1,1,1]))\n",
    "assert(200 == score([2,2,2]))\n",
    "assert(300 == score([3,3,3]))\n",
    "assert(400 == score([4,4,4]))\n",
    "assert(500 == score([5,5,5]))\n",
    "assert(600 == score([6,6,6]))\n",
    "assert(250 == score([2,5,2,2,3]))\n",
    "assert(550 == score([5,5,5,5]))\n",
    "assert(1150 == score([1,1,1,5,1]))\n",
    "assert(300 == score([1,2,2,2]))\n",
    "assert(350 == score([1,5,2,2,2]))"
   ]
  },
  {
   "cell_type": "markdown",
   "metadata": {
    "id": "bPQN2fVj7oAX"
   },
   "source": [
    "### Sexto problema (2 puntos)\n",
    "Usando la función \"score\" puntúa una jugada aleatoria de *Dice Project*, no te olvides de lanzar nuevamente los dados con ``dice.roll(5)``, mostrar sus valores y el puntaje obtenido."
   ]
  },
  {
   "cell_type": "markdown",
   "metadata": {
    "id": "PJixvROvdAs3"
   },
   "source": [
    "# Pruebas \n",
    "### luego borrar"
   ]
  },
  {
   "cell_type": "code",
   "execution_count": 11,
   "metadata": {
    "colab": {
     "base_uri": "https://localhost:8080/"
    },
    "executionInfo": {
     "elapsed": 5402,
     "status": "ok",
     "timestamp": 1608732383613,
     "user": {
      "displayName": "Cristian Laime",
      "photoUrl": "https://lh3.googleusercontent.com/a-/AOh14Ghcn3r7tfXvnGOIU_95MVtmvRXMRjpxvlM5bJ3jOg=s64",
      "userId": "12549409156781260971"
     },
     "user_tz": 180
    },
    "id": "wj9N8aFQwyC3",
    "outputId": "74c23cd3-7f69-4a98-a423-1029e18a2a90"
   },
   "outputs": [
    {
     "name": "stdout",
     "output_type": "stream",
     "text": [
      "¿Cuantos lanzamientos desea realizar? 20\n",
      "[2, 2, 3, 5, 2, 1, 4, 3, 2, 5, 1, 4, 3, 3, 4, 5, 4, 5, 1, 1]\n"
     ]
    }
   ],
   "source": [
    "import random as rd\n",
    "\n",
    "n = int(input('¿Cuantos lanzamientos desea realizar? '))  #le pido al ud qu eintrese un valor pero se guado como str por lo que lo converti primeramente en  un valor numerico entero\n",
    "a = []   #creo una lista vacia donde se guardaran los valores que se generaran posteriormente\n",
    "for i in range(1, n + 1, 1):     # creo un ciclo for para general n lanzamiento aleatorios y guardarlos en a\n",
    "  a.append(rd.randrange(1,6,1))  # agrego a la lista a los numeros aleatorio de [1;6] n cantidad de veces\n",
    "print(a)   # mustro en los valores aleatorios en la lista a\n",
    "\n",
    "  #print(f'{i}. {rd.randrange(1,6)}')"
   ]
  },
  {
   "cell_type": "code",
   "execution_count": 5,
   "metadata": {},
   "outputs": [
    {
     "output_type": "stream",
     "name": "stdout",
     "text": [
      "   Matrix.Size  Determinant.Value\n0           45               2025\n1           46               2116\n2           47               2209\n3           48               2304\n4           49               2401\n"
     ]
    }
   ],
   "source": [
    "import pandas as pd\n",
    "data = {'Matrix.Size': range(45, 50),\n",
    "        'Determinant.Value': list(map((lambda x: x**2), range(45, 50)))\n",
    "}\n",
    "df = pd.DataFrame(data, columns = ['Matrix.Size', 'Determinant.Value'])\n",
    "print(df)"
   ]
  },
  {
   "cell_type": "code",
   "execution_count": 6,
   "metadata": {},
   "outputs": [],
   "source": [
    "from sympy import *\n",
    "n = symbols('n')\n",
    "\n",
    "p = Lambda(n, fibonacci(n))\n",
    "\n"
   ]
  },
  {
   "cell_type": "code",
   "execution_count": 8,
   "metadata": {},
   "outputs": [
    {
     "output_type": "display_data",
     "data": {
      "text/plain": "1",
      "text/latex": "\\begin{equation}1\\end{equation}"
     },
     "metadata": {}
    },
    {
     "output_type": "display_data",
     "data": {
      "text/plain": "1",
      "text/latex": "\\begin{equation}1\\end{equation}"
     },
     "metadata": {}
    },
    {
     "output_type": "display_data",
     "data": {
      "text/plain": "2",
      "text/latex": "\\begin{equation}2\\end{equation}"
     },
     "metadata": {}
    },
    {
     "output_type": "display_data",
     "data": {
      "text/plain": "3",
      "text/latex": "\\begin{equation}3\\end{equation}"
     },
     "metadata": {}
    },
    {
     "output_type": "display_data",
     "data": {
      "text/plain": "5",
      "text/latex": "\\begin{equation}5\\end{equation}"
     },
     "metadata": {}
    },
    {
     "output_type": "display_data",
     "data": {
      "text/plain": "8",
      "text/latex": "\\begin{equation}8\\end{equation}"
     },
     "metadata": {}
    },
    {
     "output_type": "display_data",
     "data": {
      "text/plain": "13",
      "text/latex": "\\begin{equation}13\\end{equation}"
     },
     "metadata": {}
    },
    {
     "output_type": "display_data",
     "data": {
      "text/plain": "21",
      "text/latex": "\\begin{equation}21\\end{equation}"
     },
     "metadata": {}
    },
    {
     "output_type": "display_data",
     "data": {
      "text/plain": "34",
      "text/latex": "\\begin{equation}34\\end{equation}"
     },
     "metadata": {}
    },
    {
     "output_type": "display_data",
     "data": {
      "text/plain": "55",
      "text/latex": "\\begin{equation}55\\end{equation}"
     },
     "metadata": {}
    },
    {
     "output_type": "display_data",
     "data": {
      "text/plain": "89",
      "text/latex": "\\begin{equation}89\\end{equation}"
     },
     "metadata": {}
    },
    {
     "output_type": "display_data",
     "data": {
      "text/plain": "144",
      "text/latex": "\\begin{equation}144\\end{equation}"
     },
     "metadata": {}
    }
   ],
   "source": [
    "from IPython.display import display\n",
    "init_printing(use_latex='mathjax', latex_mode='equation')\n",
    "for i in range(1, 13): \n",
    "    display(factor(p(i)))"
   ]
  },
  {
   "cell_type": "code",
   "execution_count": null,
   "metadata": {},
   "outputs": [],
   "source": []
  }
 ],
 "metadata": {
  "colab": {
   "collapsed_sections": [],
   "name": "Para entregar",
   "provenance": [
    {
     "file_id": "https://github.com/unpsjb-ieee-student-branch/curso-python/blob/master/Colab/Evaluacion/Evaluacion.ipynb",
     "timestamp": 1608465403455
    }
   ]
  },
  "kernelspec": {
   "display_name": "Python 3",
   "language": "python",
   "name": "python3"
  },
  "language_info": {
   "codemirror_mode": {
    "name": "ipython",
    "version": 3
   },
   "file_extension": ".py",
   "mimetype": "text/x-python",
   "name": "python",
   "nbconvert_exporter": "python",
   "pygments_lexer": "ipython3",
   "version": "3.8.5-final"
  }
 },
 "nbformat": 4,
 "nbformat_minor": 1
}