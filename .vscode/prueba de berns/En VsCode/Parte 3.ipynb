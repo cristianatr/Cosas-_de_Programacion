{
 "metadata": {
  "language_info": {
   "codemirror_mode": {
    "name": "ipython",
    "version": 3
   },
   "file_extension": ".py",
   "mimetype": "text/x-python",
   "name": "python",
   "nbconvert_exporter": "python",
   "pygments_lexer": "ipython3",
   "version": "3.8.5-final"
  },
  "orig_nbformat": 2,
  "kernelspec": {
   "name": "python3",
   "display_name": "Python 3",
   "language": "python"
  }
 },
 "nbformat": 4,
 "nbformat_minor": 2,
 "cells": [
  {
   "source": [
    "# Greed Project\n",
    "\n",
    "Greed es un juego de dados en los cuales se lanzan 5 dados para acumular puntos, tiene ciertas reglas para calcular el puntaje.\n",
    "\n",
    "* Tres 1 suman 1000 puntos.\n",
    "* Cada 1 adicional a una terna suma 100 puntos.\n",
    "* Tres numeros iguales multiplican su valor por 100, por ejemplo tres 5 suman 500 puntos.\n",
    "* Un 5 que no es parte de una terna suma 50 puntos.\n",
    "* Todo lo demas vale 0 puntos.\n",
    "\n",
    "Ejemplos:\n",
    "````\n",
    "score([1,1,1,5,1]) => 1150 puntos\n",
    "score([2,3,4,6,2]) => 0 puntos\n",
    "score([3,4,5,3,3]) => 350 puntos\n",
    "score([1,5,1,2,4]) => 250 puntos\n",
    "````\n",
    "\n",
    "El objetivo es escribir este sistema de puntajes"
   ],
   "cell_type": "markdown",
   "metadata": {}
  },
  {
   "cell_type": "code",
   "execution_count": 25,
   "metadata": {},
   "outputs": [],
   "source": [
    "\n",
    "def MasDeUno(lista):\n",
    "    PuntosPorUnos = 0\n",
    "    if lista.count(1) >= 3:\n",
    "        PuntosPorUnos += 1000 + (lista.count(1)-3)*100\n",
    "    elif lista.count(1) < 3:\n",
    "        PuntosPorUnos += 100 * (lista.count(1))\n",
    "    return PuntosPorUnos\n",
    "\n",
    "def TresNumerosRepetidos(lista):\n",
    "    PuntosPorRepeticion = 0\n",
    "    if lista.count(2) >= 3:\n",
    "        PuntosPorRepeticion += 200\n",
    "    elif lista.count(3) >= 3:\n",
    "        PuntosPorRepeticion += 300\n",
    "    elif lista.count(4) >= 3:\n",
    "        PuntosPorRepeticion += 400\n",
    "    elif lista.count(5) >= 3:\n",
    "        PuntosPorRepeticion += 500\n",
    "    elif lista.count(6) >= 3:\n",
    "        PuntosPorRepeticion += 600\n",
    "    return PuntosPorRepeticion\n",
    "\n",
    "def LosCincoMenores(lista):\n",
    "    PuntosPorCinco = 0\n",
    "    if lista.count(5) >= 3 :\n",
    "        PuntosPorCinco += 50*(lista.count(5) - 3) \n",
    "    elif lista.count(5) < 3:\n",
    "        PuntosPorCinco += 50*(lista.count(5))\n",
    "    return PuntosPorCinco\n",
    "\n",
    "def score(lista):\n",
    "    #PuntuacionTotal = 0\n",
    "    PuntuacionTotal = MasDeUno(lista) +TresNumerosRepetidos(lista) +LosCincoMenores(lista)\n",
    "    return PuntuacionTotal"
   ]
  },
  {
   "source": [
    "### Quinto problema (2 puntos)\n",
    "Aquí vamos a verificar si el sistema de puntuación funciona con algunas jugadas conocidas."
   ],
   "cell_type": "markdown",
   "metadata": {}
  },
  {
   "cell_type": "code",
   "execution_count": 26,
   "metadata": {},
   "outputs": [],
   "source": [
    "assert(50 == score([5]))\n",
    "assert(100 == score([1]))\n",
    "assert(300 == score([1,5,5,1]))\n",
    "assert(0 == score([2,3,4,6]))\n",
    "assert(1000 == score([1,1,1]))\n",
    "assert(200 == score([2,2,2]))\n",
    "assert(300 == score([3,3,3]))\n",
    "assert(400 == score([4,4,4]))\n",
    "assert(500 == score([5,5,5]))\n",
    "assert(600 == score([6,6,6]))\n",
    "assert(250 == score([2,5,2,2,3]))\n",
    "assert(550 == score([5,5,5,5]))\n",
    "assert(1150 == score([1,1,1,5,1]))\n",
    "assert(300 == score([1,2,2,2]))\n",
    "assert(350 == score([1,5,2,2,2]))"
   ]
  },
  {
   "source": [
    "### Sexto problema (2 puntos)\n",
    "Usando la función \"score\" puntúa una jugada aleatoria de *Dice Project*, no te olvides de lanzar nuevamente los dados con ``dice.roll(5)``, mostrar sus valores y el puntaje obtenido."
   ],
   "cell_type": "markdown",
   "metadata": {}
  },
  {
   "cell_type": "code",
   "execution_count": 18,
   "metadata": {},
   "outputs": [
    {
     "output_type": "stream",
     "name": "stdout",
     "text": [
      "<__main__.Puntuacion object at 0x00000273B6A54A00>\n"
     ]
    }
   ],
   "source": [
    "class Puntuacion:\n",
    "    def __init__(self, lista):\n",
    "        self.lista = lista\n",
    "        self.puntos = 0\n",
    "\n",
    "    def MasDeUno(self, lista):\n",
    "        \n",
    "        if self.lista.count(1) >= 3:\n",
    "            self.puntos += 1000 + (self.lista.count(1)-3)*100\n",
    "        elif self.lista.count(1) < 3:\n",
    "            self.puntos += 100 * (self.lista.count(1))\n",
    "        return self.puntos\n",
    "\n",
    "    def TresNumerosRepetidos(self):\n",
    "        \n",
    "        if self.lista.count(2) >= 3:\n",
    "            self.puntos += 200\n",
    "        elif self.lista.count(3) >= 3:\n",
    "            self.puntos += 300\n",
    "        elif self.lista.count(4) >= 3:\n",
    "            self.puntos += 400\n",
    "        elif self.lista.count(5) >= 3:\n",
    "            self.puntos += 500\n",
    "        elif self.lista.count(6) >= 3:\n",
    "            self.puntos += 600\n",
    "        return self.puntos\n",
    "\n",
    "    def LosCincoMenores(self):\n",
    "        \n",
    "        if self.lista.count(5) >= 3 :\n",
    "            self.puntos += 50*(self.lista.count(5) - 3) \n",
    "        elif self.lista.count(5) < 3:\n",
    "            self.puntos += 50*(self.lista.count(5))\n",
    "        return self.puntos\n",
    "\n",
    "    def score(self):\n",
    "       \n",
    "        self.puntos += self.MasDeUno(self) +self.TresNumerosRepetidos(self) +self.LosCincoMenores(self)\n",
    "        return self.puntos\n",
    "\n",
    "puntuacion = Puntuacion([1,2,2,2,1])\n",
    "print(puntuacion)\n"
   ]
  },
  {
   "cell_type": "code",
   "execution_count": null,
   "metadata": {},
   "outputs": [],
   "source": []
  }
 ]
}