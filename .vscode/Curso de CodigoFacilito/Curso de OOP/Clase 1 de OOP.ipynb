{
 "metadata": {
  "language_info": {
   "codemirror_mode": {
    "name": "ipython",
    "version": 3
   },
   "file_extension": ".py",
   "mimetype": "text/x-python",
   "name": "python",
   "nbconvert_exporter": "python",
   "pygments_lexer": "ipython3",
   "version": "3.8.5-final"
  },
  "orig_nbformat": 2,
  "kernelspec": {
   "name": "python3",
   "display_name": "Python 3",
   "language": "python"
  }
 },
 "nbformat": 4,
 "nbformat_minor": 2,
 "cells": [
  {
   "cell_type": "code",
   "execution_count": 1,
   "metadata": {},
   "outputs": [],
   "source": [
    "class NombreClase:\n",
    "    pass\n",
    "\n",
    "primer_objeto = NombreClase()"
   ]
  },
  {
   "cell_type": "code",
   "execution_count": 14,
   "metadata": {},
   "outputs": [
    {
     "output_type": "stream",
     "name": "stdout",
     "text": [
      "100\nGame over\n"
     ]
    }
   ],
   "source": [
    "class NinjaPrincipal:\n",
    "    HP = 100\n",
    "    resistencia = 50\n",
    "    XP = 1\n",
    "    vidas = 3\n",
    "\n",
    "    def game_over(self):\n",
    "        print('Game over')\n",
    "\n",
    "ninja = NinjaPrincipal()\n",
    "print(ninja.HP)\n",
    "\n",
    "ninja.vidas = 0\n",
    "ninja.HP = 0\n",
    "if ninja.HP == 0 and ninja.vidas == 0:\n",
    "    ninja.game_over()\n"
   ]
  },
  {
   "cell_type": "code",
   "execution_count": 25,
   "metadata": {},
   "outputs": [
    {
     "output_type": "stream",
     "name": "stdout",
     "text": [
      "True\n50\n"
     ]
    },
    {
     "output_type": "execute_result",
     "data": {
      "text/plain": [
       "'\\nninja = NinjaPrincipal()\\nprint(ninja.HP)\\n\\nninja_enemigo = NinjaPrincipal()\\nninja_enemigo.HP = 25\\nninja_enemigo.resistencia= 10\\nninja_enemigo.vidas = 1\\n\\nprint(ninja_enemigo.HP, ninja_enemigo.resistencia, ninja_enemigo.vidas)\\n'"
      ]
     },
     "metadata": {},
     "execution_count": 25
    }
   ],
   "source": [
    "class NinjaPrincipal:\n",
    "    def __init__(self, hp, resistencia, xp, vidas):\n",
    "\n",
    "        self.hp = hp\n",
    "        self.resistencia = resistencia\n",
    "        self.xp = xp\n",
    "        self.vidas = vidas\n",
    "\n",
    "    def game_over(self):\n",
    "        print('Game over')\n",
    "\n",
    "ninja = NinjaPrincipal(100, 50, 1, 3)\n",
    "ninja.salto = True\n",
    "print(ninja.salto)\n",
    "\n",
    "ninja_enemigo = NinjaPrincipal(25, 10, 1, 1)\n",
    "print(ninja.resistencia)\n",
    "'''\n",
    "ninja = NinjaPrincipal()\n",
    "print(ninja.HP)\n",
    "\n",
    "ninja_enemigo = NinjaPrincipal()\n",
    "ninja_enemigo.HP = 25\n",
    "ninja_enemigo.resistencia= 10\n",
    "ninja_enemigo.vidas = 1\n",
    "\n",
    "print(ninja_enemigo.HP, ninja_enemigo.resistencia, ninja_enemigo.vidas)\n",
    "'''\n",
    "\n",
    "\n"
   ]
  },
  {
   "cell_type": "code",
   "execution_count": 38,
   "metadata": {},
   "outputs": [
    {
     "output_type": "stream",
     "name": "stdout",
     "text": [
      "alumno001\nLucia Granados Acedo 2 ['Ingles']\n\nalumno002\n['Ingles', 'Musica']\n['Ingles']\nJavier Garcia 4\n"
     ]
    }
   ],
   "source": [
    "class Alumnos:\n",
    "    def __init__(self, nombre, apellido, curso):\n",
    "        self.nombre = nombre\n",
    "        self.apellido = apellido\n",
    "        self.curso = curso\n",
    "        self.materias = []\n",
    "\n",
    "print('alumno001')\n",
    "alumno001 = Alumnos('Lucia', 'Granados Acedo', '2')\n",
    "\n",
    "alumno001.materias.append('Ingles')\n",
    "print(alumno001.nombre, alumno001.apellido, alumno001.curso, alumno001.materias)\n",
    "\n",
    "print('\\nalumno002')\n",
    "alumno002 = Alumnos('Javier', 'Garcia', '4')\n",
    "alumno002.materias.append('Ingles')\n",
    "alumnos002.materias.append('Musica')\n",
    "print(alumno002.materias)\n",
    "alumno002.materias.remove('Musica')\n",
    "print(alumno002.materias)\n",
    "print(alumno002.nombre, alumno002.apellido, alumno002.curso)\n"
   ]
  },
  {
   "cell_type": "code",
   "execution_count": 27,
   "metadata": {},
   "outputs": [
    {
     "output_type": "stream",
     "name": "stdout",
     "text": [
      "True\n('Persona Estudiosa del lenguaje Python', '27')\nUsuario Free\n001\n"
     ]
    }
   ],
   "source": [
    "class usuario:\n",
    "\n",
    "    tipo_usuario = 'Free'\n",
    "    publicidad = True\n",
    "\n",
    "    def __init__(self, nid, alias, nombre, apellidos, *args):\n",
    "        self.nid = nid\n",
    "        self.alias = alias\n",
    "        self.nombre = nombre\n",
    "        self.apellidos = apellidos\n",
    "        self.args = args\n",
    "\n",
    "usuario1 = usuario('001', \"PdePython\", \"Paula\", \"Bravo Rojas\", \"Persona Estudiosa del lenguaje Python\", \"27\")\n",
    "print(usuario1.publicidad)\n",
    "print(usuario1.args)\n",
    "\n",
    "\n",
    "class UsuarioPremiun:\n",
    "    tipo_usuario = \"Premiun\"\n",
    "    publicidad = False\n",
    "    \n",
    "    def __init__(self, nid, alias, nombre, apellidos):\n",
    "        self.nid = nid\n",
    "        self.alias = alias\n",
    "        self.nombre = nombre\n",
    "        self.apellidos = apellidos\n",
    "\n",
    "print('Usuario Free')\n",
    "usuario1 = usuario('001', \"PdePython\", \"Paula\", \"Bravo Rojas\")\n",
    "print(usuario1.nid)\n"
   ]
  },
  {
   "source": [
    "class usuario:\n",
    "\n",
    "    tipo_usuario = 'Free'\n",
    "    publicidad = True\n",
    "\n",
    "    def __init__(self, nid, alias, nombre, apellidos, tipo, publicidad):\n",
    "        self.nid = nid\n",
    "        self.alias = alias\n",
    "        self.nombre = nombre\n",
    "        self.apellidos = apellidos\n",
    "        self.tipo = tipo\n",
    "        self.publicidad = publicidad\n",
    "class UsuarioFree(usuario):\n",
    "\n",
    "    def MirarTV(self):\n",
    "        print('con publicidad')\n",
    "   # usuario1 = usuario('001', \"PdePython\", \"Paula\", \"Bravo Rojas\")\n",
    "   # print(usuario.publicidad)\n",
    "\n",
    "class UsuarioPremiun(usuario):\n",
    "    \n",
    "    def MirarTV(self):\n",
    "        print('Sin publicidad')\n",
    "\n",
    "print('Usuario Free')\n",
    "usuario1 = UsuarioFree('001', \"PdePython\", \"Paula\", \"Bravo Rojas\", 'Free', 'True')\n",
    "print(f'N° de ID: {usuario1.nid} \\nAlias: {usuario1.alias} \\nNombre: {usuario1.nombre} \\nApellidos: {usuario1.apellidos} \\nTipo: {usuario1.tipo} \\nPublicidad: {usuario1.publicidad}')\n",
    "\n",
    "print('\\nUsuario Premiun')\n",
    "\n",
    "\n"
   ],
   "cell_type": "code",
   "metadata": {},
   "execution_count": 28,
   "outputs": [
    {
     "output_type": "stream",
     "name": "stdout",
     "text": [
      "Usuario Free\nN° de ID: 001 \nAlias: PdePython \nNombre: Paula \nApellidos: Bravo Rojas \nTipo: Free \nPublicidad: True\n\nUsuario Premiun\n"
     ]
    }
   ]
  },
  {
   "source": [
    "# Herencias\n",
    "## Overeddit"
   ],
   "cell_type": "markdown",
   "metadata": {}
  },
  {
   "cell_type": "code",
   "execution_count": 57,
   "metadata": {},
   "outputs": [
    {
     "output_type": "stream",
     "name": "stdout",
     "text": [
      "Usuarios\n\nN° de ID: 012 \nAlias: Cris \nNombre: Cristian \nApellidos: Laime mercado\nTipo de Usuario: Free \nPublicidad: True\nParticipacion a sorteos: No Tiene\n\nN° de ID: 012 \nAlias: Mar \nNombre: Marlen \nApellidos: Muños\nTipo de Usuario: Premiun \nPublicidad: False\nParticipacion a sorteos: 18\n\nN° de ID: 0152 \nAlias: Bris \nNombre: Brisa \nApellidos: Ramirez \nTipo de Usuario: Premiun \nPublicidad: False\nParticipacion a sorteos: 25\n"
     ]
    }
   ],
   "source": [
    "class Usuario:\n",
    "    tipo_usuario = \"Free\"\n",
    "    publicidad = True\n",
    "    participacion_sorteos = 'No Tiene'\n",
    "\n",
    "    def __init__(self, nid, alias, nombre, apellidos):\n",
    "        self.nid = nid\n",
    "        self.alias = alias\n",
    "        self.nombre = nombre\n",
    "        self.apellidos = apellidos\n",
    "\n",
    "    def muestra_datos(self):\n",
    "        print(f'N° de ID: {self.nid} \\nAlias: {self.alias} \\nNombre: {self.nombre} \\nApellidos: {self.apellidos}')\n",
    "\n",
    "class UsuariosPremiun(Usuario):\n",
    "    tipo_usuario = \"Premiun\"\n",
    "    publicidad = False\n",
    "    participacion_sorteos = 18\n",
    "\n",
    "class UsuariosPremiunPlus(UsuariosPremiun):\n",
    "    participacion_sorteos = 25\n",
    "   \n",
    "     \n",
    "print(\"Usuarios\\n\")\n",
    "\n",
    "usuario1 = Usuario(\"012\", \"Cris\", \"Cristian\", \"Laime mercado\")\n",
    "usuario1.muestra_datos()\n",
    "print(f'Tipo de Usuario: {usuario1.tipo_usuario} \\nPublicidad: {usuario1.publicidad}\\nParticipacion a sorteos: {usuario1.participacion_sorteos}')\n",
    "\n",
    "print(\"\")\n",
    "\n",
    "usuario2 = UsuariosPremiun(\"012\", \"Mar\", \"Marlen\", \"Muños\")\n",
    "usuario2.muestra_datos()\n",
    "print(f'Tipo de Usuario: {usuario2.tipo_usuario} \\nPublicidad: {usuario2.publicidad}\\nParticipacion a sorteos: {usuario2.participacion_sorteos}')\n",
    "\n",
    "print(\"\")\n",
    "\n",
    "usuario3 = UsuariosPremiunPlus(\"0152\", \"Bris\", \"Brisa\", \"Ramirez \")\n",
    "usuario3.muestra_datos()\n",
    "print(f'Tipo de Usuario: {usuario3.tipo_usuario} \\nPublicidad: {usuario3.publicidad}\\nParticipacion a sorteos: {usuario3.participacion_sorteos}')\n"
   ]
  },
  {
   "source": [
    "## Herecia de clases METODO SUPER"
   ],
   "cell_type": "markdown",
   "metadata": {}
  },
  {
   "cell_type": "code",
   "execution_count": 73,
   "metadata": {},
   "outputs": [
    {
     "output_type": "stream",
     "name": "stdout",
     "text": [
      "Usuarios\n\nN° de ID: 012 \nAlias: Cris \nNombre: Cristian \nApellidos: Laime mercado\nTipo de Usuario: Free \nPublicidad: True\nParticipacion a sorteos: No Tiene\n\nN° de ID: 012 \nAlias: Mar \nNombre: Marlen \nApellidos: Muños\nTine 10 sorteos y tiene 500 puntos\nTipo de Usuario: Premiun \nPublicidad: False\nParticipacion a sorteos: 10\n\nN° de ID: 0152 \nAlias: Bris \nNombre: Brisa \nApellidos: Ramirez \nTine 3 sorteos y tiene 4 puntos\nTipo de Usuario: Premiun \nPublicidad: False\nParticipacion a sorteos: 3\n"
     ]
    }
   ],
   "source": [
    "class Usuario:\n",
    "    tipo_usuario = \"Free\"\n",
    "    publicidad = True\n",
    "    participacion_sorteos = 'No Tiene'\n",
    "\n",
    "    def __init__(self, nid, alias, nombre, apellidos):\n",
    "        self.nid = nid\n",
    "        self.alias = alias\n",
    "        self.nombre = nombre\n",
    "        self.apellidos = apellidos\n",
    "\n",
    "    def muestra_datos(self):\n",
    "        print(f'N° de ID: {self.nid} \\nAlias: {self.alias} \\nNombre: {self.nombre} \\nApellidos: {self.apellidos}')\n",
    "\n",
    "class UsuariosPremiun(Usuario):\n",
    "    def __init__(self,nid, alias, nombre, apellidos, participacion_sorteos, puntos_premios):\n",
    "        super().__init__(nid, alias, nombre, apellidos)\n",
    "        self.participacion_sorteos = participacion_sorteos\n",
    "        self.puntos_premios = puntos_premios\n",
    "        self.contenido_premiun = True\n",
    "        \n",
    "    \n",
    "    def muestra_datos(self):\n",
    "        super().muestra_datos()\n",
    "        print(f'Tine {self.participacion_sorteos} sorteos y tiene {self.puntos_premios} puntos')\n",
    "        \n",
    "    \n",
    "\n",
    "    tipo_usuario = \"Premiun\"\n",
    "    publicidad = False\n",
    "    participacion_sorteos = 18\n",
    "\n",
    "class UsuariosPremiunPlus(UsuariosPremiun):\n",
    "    participacion_sorteos = 25\n",
    "   \n",
    "    def muestra_datos(self):\n",
    "        super().muestra_datos()\n",
    "                        \n",
    "     \n",
    "print(\"Usuarios\\n\")\n",
    "\n",
    "usuario1 = Usuario(\"012\", \"Cris\", \"Cristian\", \"Laime mercado\")\n",
    "usuario1.muestra_datos()\n",
    "print(f'Tipo de Usuario: {usuario1.tipo_usuario} \\nPublicidad: {usuario1.publicidad}\\nParticipacion a sorteos: {usuario1.participacion_sorteos}')\n",
    "\n",
    "print(\"\")\n",
    "\n",
    "usuario2 = UsuariosPremiun(\"012\", \"Mar\", \"Marlen\", \"Muños\", 10, 500)\n",
    "usuario2.muestra_datos()\n",
    "print(f'Tipo de Usuario: {usuario2.tipo_usuario} \\nPublicidad: {usuario2.publicidad}\\nParticipacion a sorteos: {usuario2.participacion_sorteos}')\n",
    "\n",
    "print(\"\")\n",
    "\n",
    "usuario3 = UsuariosPremiunPlus(\"0152\", \"Bris\", \"Brisa\", \"Ramirez \", 3, 4)\n",
    "usuario3.muestra_datos()\n",
    "print(f'Tipo de Usuario: {usuario3.tipo_usuario} \\nPublicidad: {usuario3.publicidad}\\nParticipacion a sorteos: {usuario3.participacion_sorteos}')\n"
   ]
  },
  {
   "cell_type": "code",
   "execution_count": 78,
   "metadata": {},
   "outputs": [
    {
     "output_type": "stream",
     "name": "stdout",
     "text": [
      "N° de ID: 929292 \nAlias: Crist \nNombre: Cristian \nApellidos: Laime\nusdbufidsfb3\n"
     ]
    }
   ],
   "source": [
    "class Usuario:\n",
    "    def __init__(self, nid, alias, nombre, apellidos, password):\n",
    "        self.__nid = nid\n",
    "        self.alias = alias\n",
    "        self.nombre = nombre\n",
    "        self.apellidos = apellidos\n",
    "        self.password = password\n",
    "    def muestra_datos(self):\n",
    "        print(f'N° de ID: {self.__nid} \\nAlias: {self.alias} \\nNombre: {self.nombre} \\nApellidos: {self.apellidos}')\n",
    "\n",
    "usuario = Usuario('929292', \"Crist\", \"Cristian\", \"Laime\", \"usdbufidsfb3\")\n",
    "usuario.muestra_datos()\n",
    "print(usuario.password)\n",
    "\n"
   ]
  },
  {
   "cell_type": "code",
   "execution_count": null,
   "metadata": {},
   "outputs": [],
   "source": []
  }
 ]
}