{
 "metadata": {
  "language_info": {
   "codemirror_mode": {
    "name": "ipython",
    "version": 3
   },
   "file_extension": ".py",
   "mimetype": "text/x-python",
   "name": "python",
   "nbconvert_exporter": "python",
   "pygments_lexer": "ipython3",
   "version": "3.8.5-final"
  },
  "orig_nbformat": 2,
  "kernelspec": {
   "name": "python3",
   "display_name": "Python 3",
   "language": "python"
  }
 },
 "nbformat": 4,
 "nbformat_minor": 2,
 "cells": [
  {
   "source": [
    "# Clases"
   ],
   "cell_type": "markdown",
   "metadata": {}
  },
  {
   "cell_type": "code",
   "execution_count": 7,
   "metadata": {},
   "outputs": [
    {
     "output_type": "stream",
     "name": "stdout",
     "text": [
      "amarrillo\nFalse\nTrue\n"
     ]
    }
   ],
   "source": [
    "class Lapiz:\n",
    "    color = 'amarrillo'\n",
    "    borrador = False\n",
    "    grafito = True\n",
    "\n",
    "lapiz_generico = Lapiz()\n",
    "\n",
    "print(lapiz_generico.color)\n",
    "print(lapiz_generico.borrador)\n",
    "print(lapiz_generico.grafito)"
   ]
  },
  {
   "source": [
    "## Metodos"
   ],
   "cell_type": "markdown",
   "metadata": {}
  },
  {
   "cell_type": "code",
   "execution_count": 17,
   "metadata": {},
   "outputs": [
    {
     "output_type": "stream",
     "name": "stdout",
     "text": [
      "El lapiz esta dibujando\nEl lapiz esta borrando\n"
     ]
    }
   ],
   "source": [
    "class Lapiz:\n",
    "    color = 'amarrillo'\n",
    "    borrador = False\n",
    "    grafito = True\n",
    "\n",
    "    def dibujar(self):\n",
    "        print('El lapiz esta dibujando')\n",
    "    def borrando(self):\n",
    "        if self.es_valido_borrar():\n",
    "            print('El lapiz esta borrando')\n",
    "        else:\n",
    "            print('No es posible borrar')\n",
    "    \n",
    "    def es_valido_borrar(self):\n",
    "        return self.borrador\n",
    "\n",
    "\n",
    "\n",
    "lapiz_generico = Lapiz()\n",
    "\n",
    "lapiz_generico.dibujar()\n",
    "lapiz_generico.borrador = True\n",
    "lapiz_generico.borrando()"
   ]
  },
  {
   "source": [
    "## __init__"
   ],
   "cell_type": "markdown",
   "metadata": {}
  },
  {
   "cell_type": "code",
   "execution_count": 23,
   "metadata": {},
   "outputs": [
    {
     "output_type": "stream",
     "name": "stdout",
     "text": [
      "El lapiz esta dibujando\nNo es posible borrar\n"
     ]
    }
   ],
   "source": [
    "class Lapiz:\n",
    "\n",
    "    def __init__(self, color, borrador, grafito):\n",
    "        self.color = color\n",
    "        self.borrador = borrador\n",
    "        self.grafito = grafito\n",
    "\n",
    "    def dibujar(self):\n",
    "        print('El lapiz esta dibujando')\n",
    "    def borrando(self):\n",
    "        if self.es_valido_borrar():\n",
    "            print('El lapiz esta borrando')\n",
    "        else:\n",
    "            print('No es posible borrar')\n",
    "    \n",
    "    def es_valido_borrar(self):\n",
    "        return self.borrador\n",
    "\n",
    "\n",
    "\n",
    "lapiz_generico = Lapiz('verde', False, True)\n",
    "\n",
    "lapiz_generico.dibujar()\n",
    "lapiz_generico.borrando()"
   ]
  },
  {
   "source": [
    "## Metodo Privado"
   ],
   "cell_type": "markdown",
   "metadata": {}
  },
  {
   "cell_type": "code",
   "execution_count": 41,
   "metadata": {},
   "outputs": [
    {
     "output_type": "stream",
     "name": "stdout",
     "text": [
      "Eduardo\ncrisr@gmail.com\n"
     ]
    },
    {
     "output_type": "execute_result",
     "data": {
      "text/plain": [
       "'1234ABCD'"
      ]
     },
     "metadata": {},
     "execution_count": 41
    }
   ],
   "source": [
    "class Usuario:\n",
    "    def __init__(self, username, password, email):\n",
    "        self.username = username\n",
    "        self.__password = self.__gen_password(password)\n",
    "        self.email = email\n",
    "\n",
    "    def __gen_password(self, password):\n",
    "        return password.upper()\n",
    "\n",
    "    def get_password(self):\n",
    "        return self.__password\n",
    "\n",
    "Eduardo = Usuario('Eduardo', '1234abcd', 'crisr@gmail.com')\n",
    "print(Eduardo.username)\n",
    "#Eduardo.__password = 'ewvovdownviow'\n",
    "#print(Eduardo.password)\n",
    "print(Eduardo.email)\n",
    "Eduardo.get_password()\n"
   ]
  },
  {
   "source": [
    "## Variables de Clase"
   ],
   "cell_type": "markdown",
   "metadata": {}
  },
  {
   "cell_type": "code",
   "execution_count": 56,
   "metadata": {},
   "outputs": [
    {
     "output_type": "stream",
     "name": "stdout",
     "text": [
      "3.141592653589793\n50.26548245743669\n28.274333882308138\n{'radio': 4}\n"
     ]
    }
   ],
   "source": [
    "import math as m\n",
    "\n",
    "class circulo:\n",
    "    pi = m.pi  #Variables de clases\n",
    "        \n",
    "    def __init__(self, radio):\n",
    "        self.radio = radio\n",
    "        #self.pi = m.pi\n",
    "    def area(self):\n",
    "        return circulo.pi* (self.radio)**2\n",
    "    \n",
    "circulo_1 = circulo(4)\n",
    "circulo_2 = circulo(3)\n",
    "\n",
    "print(circulo.pi)\n",
    "\n",
    "print(circulo_1.area())\n",
    "print(circulo_2.area())\n",
    "\n",
    "print(circulo_1.__dict__)"
   ]
  },
  {
   "source": [
    "## Property\n"
   ],
   "cell_type": "markdown",
   "metadata": {}
  },
  {
   "cell_type": "code",
   "execution_count": 68,
   "metadata": {},
   "outputs": [
    {
     "output_type": "stream",
     "name": "stdout",
     "text": [
      "('1234ABCD', '1234abcd', ['1234abcd'])\n('NUEVO PASSWORD', 'nuevo password', ['Nuevo', 'password'])\n(\"BRISA I'M LOVE U \", \"brisa i'm love u \", ['Brisa', \"I'm\", 'love', 'U'])\n"
     ]
    }
   ],
   "source": [
    "class Usuario:\n",
    "    def __init__(self, username, password, email):\n",
    "        self.username = username\n",
    "        self.__password = self.__gen_password(password)\n",
    "        self.email = email\n",
    "\n",
    "    def __gen_password(self, password):\n",
    "        return password.upper(), password.lower(), password.split()\n",
    "\n",
    "    #def get_password(self):\n",
    "        #return self.__password\n",
    "\n",
    "    @property\n",
    "    def password(self):\n",
    "        return self.__password\n",
    "    @password.setter\n",
    "    def password(self, valor):\n",
    "        self.__password = self.__gen_password(valor)\n",
    "\n",
    "Eduardo = Usuario('Eduardo', '1234abcd', 'crisr@gmail.com')\n",
    "print(Eduardo.password)\n",
    "Eduardo.password = 'Nuevo password'\n",
    "print(Eduardo.password)\n",
    "Eduardo.password = \"Brisa I'm love U \"\n",
    "print(Eduardo.password)"
   ]
  },
  {
   "source": [
    "## Metodos Estadisticos"
   ],
   "cell_type": "markdown",
   "metadata": {}
  },
  {
   "cell_type": "code",
   "execution_count": 73,
   "metadata": {},
   "outputs": [
    {
     "output_type": "stream",
     "name": "stdout",
     "text": [
      "3.141592653589793\n254.46900494077323\n"
     ]
    }
   ],
   "source": [
    "import math as m\n",
    "\n",
    "class circulo:\n",
    "    #pi = m.pi  #Variables de clases\n",
    "    @staticmethod\n",
    "    def pi():\n",
    "        return m.pi\n",
    "        \n",
    "    def __init__(self, radio):\n",
    "        self.radio = radio\n",
    "  \n",
    "    def area(self):    #Meodo de instancia\n",
    "        return  circulo.pi() * (self.radio)**2\n",
    "\n",
    "        \n",
    "print(circulo.pi())\n",
    "circulo_1 = circulo(9)\n",
    "print(circulo_1.area())\n"
   ]
  },
  {
   "source": [
    "## Herencias"
   ],
   "cell_type": "markdown",
   "metadata": {}
  },
  {
   "cell_type": "code",
   "execution_count": 76,
   "metadata": {},
   "outputs": [
    {
     "output_type": "stream",
     "name": "stdout",
     "text": [
      "True\nTrue\n"
     ]
    }
   ],
   "source": [
    "# REPETIENDO CODIGO\n",
    "\n",
    "'''class Felino:\n",
    "    def __init__(self, nombre):\n",
    "        self.nombre = nombre\n",
    "    def cazar(self):\n",
    "'''\n",
    "class Gato:\n",
    "    @property\n",
    "    def garras_retractiles(self):\n",
    "        return True\n",
    "\n",
    "    def cazar(self):\n",
    "        print('El felino esta cazando')\n",
    "\n",
    "class Jaguar:\n",
    "    @property\n",
    "    def garras_retractiles(self):\n",
    "        return True\n",
    "\n",
    "    def cazar(self):\n",
    "        print('El felino esta cazando')\n",
    "\n",
    "gato = Gato()\n",
    "jaguar = Jaguar()\n",
    "\n",
    "print(gato.garras_retractiles)\n",
    "print(jaguar.garras_retractiles)"
   ]
  },
  {
   "cell_type": "code",
   "execution_count": 80,
   "metadata": {},
   "outputs": [
    {
     "output_type": "stream",
     "name": "stdout",
     "text": [
      "True\nTrue\n"
     ]
    }
   ],
   "source": [
    "# CODIGO MEJORADO\n",
    "class Animal:\n",
    "    @property\n",
    "    def terrestre(self):\n",
    "        return True\n",
    "\n",
    "class Felino(Animal):\n",
    "    @property\n",
    "    def garras_retractiles(self):\n",
    "        return True\n",
    "\n",
    "    def cazar(self):\n",
    "        print('El felino esta cazando')\n",
    "\n",
    "class Gato(Felino):\n",
    "    def gato_cazador(self):\n",
    "        self.cazar()\n",
    "\n",
    "class Jaguar(Felino):\n",
    "    pass\n",
    "\n",
    "gato = Gato()\n",
    "jaguar = Jaguar()\n",
    "print(gato.terrestre)\n",
    "print(jaguar.terrestre)\n",
    "\n"
   ]
  },
  {
   "source": [
    "## Herencia Multiple"
   ],
   "cell_type": "markdown",
   "metadata": {}
  },
  {
   "cell_type": "code",
   "execution_count": 82,
   "metadata": {},
   "outputs": [
    {
     "output_type": "stream",
     "name": "stdout",
     "text": [
      "True\nTrue\nGato con nombre\n"
     ]
    }
   ],
   "source": [
    "class Animal:\n",
    "    @property\n",
    "    def terrestre(self):\n",
    "        return True\n",
    "\n",
    "class Felino(Animal):\n",
    "    @property\n",
    "    def garras_retractiles(self):\n",
    "        return True\n",
    "\n",
    "    def cazar(self):\n",
    "        print('El felino esta cazando')\n",
    "class Mascota:\n",
    "    nombre=''\n",
    "\n",
    "    def mostrar_nombre(self):\n",
    "        print(self.nombre)\n",
    "\n",
    "class Gato(Felino, Mascota):\n",
    "    def gato_cazador(self):\n",
    "        self.cazar()\n",
    "\n",
    "class Jaguar(Felino):\n",
    "    pass\n",
    "\n",
    "gato = Gato()\n",
    "gato.nombre = 'Gato con nombre'\n",
    "jaguar = Jaguar()\n",
    "print(gato.terrestre)\n",
    "print(jaguar.terrestre)\n",
    "gato.mostrar_nombre()\n"
   ]
  },
  {
   "source": [
    "## Overidder"
   ],
   "cell_type": "markdown",
   "metadata": {}
  },
  {
   "cell_type": "code",
   "execution_count": 85,
   "metadata": {},
   "outputs": [
    {
     "output_type": "stream",
     "name": "stdout",
     "text": [
      "Espia\nEl nombre del gato es: Espia\n"
     ]
    }
   ],
   "source": [
    "class Animal:\n",
    "    @property\n",
    "    def terrestre(self):\n",
    "        return True\n",
    "\n",
    "class Felino(Animal):\n",
    "    @property\n",
    "    def garras_retractiles(self):\n",
    "        return True\n",
    "\n",
    "    def cazar(self):\n",
    "        print('El felino esta cazando')\n",
    "class Mascota:\n",
    "    nombre=''\n",
    "\n",
    "    def __init__(self, nombre):\n",
    "        self.nombre = nombre\n",
    "\n",
    "    def mostrar_nombre(self):\n",
    "        print(self.nombre)\n",
    "\n",
    "class Gato(Felino, Mascota):\n",
    "    def __init__(self, nombre):\n",
    "        Mascota.__init__(self, nombre)\n",
    "        self.nombre_gato = nombre\n",
    "\n",
    "    def gato_cazador(self):\n",
    "        self.cazar()\n",
    "    \n",
    "    def mostrar_nombre(self):  #Sobrescritura de Metodos\n",
    "        Mascota.mostrar_nombre(self)\n",
    "        print(f'El nombre del gato es: {self.nombre}')\n",
    "\n",
    "class Jaguar(Felino):\n",
    "    pass\n",
    "\n",
    "gato = Gato('Espia')\n",
    "#gato.nombre = 'Espia'\n",
    "gato.mostrar_nombre()"
   ]
  },
  {
   "cell_type": "code",
   "execution_count": null,
   "metadata": {},
   "outputs": [],
   "source": []
  }
 ]
}