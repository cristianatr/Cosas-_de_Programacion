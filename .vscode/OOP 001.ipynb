{
 "metadata": {
  "language_info": {
   "codemirror_mode": {
    "name": "ipython",
    "version": 3
   },
   "file_extension": ".py",
   "mimetype": "text/x-python",
   "name": "python",
   "nbconvert_exporter": "python",
   "pygments_lexer": "ipython3",
   "version": "3.8.5-final"
  },
  "orig_nbformat": 2,
  "kernelspec": {
   "name": "python3",
   "display_name": "Python 3",
   "language": "python"
  }
 },
 "nbformat": 4,
 "nbformat_minor": 2,
 "cells": [
  {
   "cell_type": "code",
   "execution_count": null,
   "metadata": {},
   "outputs": [],
   "source": []
  },
  {
   "cell_type": "code",
   "execution_count": 2,
   "metadata": {},
   "outputs": [],
   "source": [
    "class Ejemplo:\n",
    "    def __init__(self, parametro1, parametro2):\n",
    "        self.atributo1 = parametro1\n",
    "        self.atributo2 = parametro2"
   ]
  },
  {
   "cell_type": "code",
   "execution_count": 3,
   "metadata": {},
   "outputs": [],
   "source": [
    "un_ejemplo = Ejemplo(\"Un valor para parametro 1\", \"Un valor para parametro 2\")"
   ]
  },
  {
   "cell_type": "code",
   "execution_count": 4,
   "metadata": {},
   "outputs": [
    {
     "output_type": "execute_result",
     "data": {
      "text/plain": [
       "False"
      ]
     },
     "metadata": {},
     "execution_count": 4
    }
   ],
   "source": [
    "un_ejemplo.atributo1 == str\n",
    "#print(type(un_ejemplo.atributo2))"
   ]
  },
  {
   "cell_type": "code",
   "execution_count": 5,
   "metadata": {},
   "outputs": [
    {
     "output_type": "execute_result",
     "data": {
      "text/plain": [
       "'Hola'"
      ]
     },
     "metadata": {},
     "execution_count": 5
    }
   ],
   "source": [
    "un_ejemplo.atributo3 = \"Hola\"\n",
    "un_ejemplo.atributo3"
   ]
  },
  {
   "cell_type": "code",
   "execution_count": 6,
   "metadata": {},
   "outputs": [],
   "source": [
    "class Gato:\n",
    "\n",
    "    especie = \"Mamifero\"\n",
    "    \n",
    "    def __init__(self, nombre, edad):\n",
    "        self.nombre = nombre\n",
    "        self.edad = edad\n",
    "        self.alimento = []\n",
    "\n",
    "    def VerEtapaDeVida(self):\n",
    "        if self.edad > 1:\n",
    "            print(self.nombre, \"es adulto\")\n",
    "        else:\n",
    "            print(self.nombre, \"es cachorro\")\n",
    "        \n",
    "    def EsAlimentoFavorito(self, alimento):\n",
    "        return alimento in self.alimento\n"
   ]
  },
  {
   "cell_type": "code",
   "execution_count": 7,
   "metadata": {},
   "outputs": [
    {
     "output_type": "stream",
     "name": "stdout",
     "text": [
      "Gato 1\n\nEspia es adulto\n\nGato 2\nNegris es adulto\nJamaica es adulto\n"
     ]
    }
   ],
   "source": [
    "gato_1 = Gato('Espia', 12)\n",
    "gato_2 = Gato('Negris', 4)\n",
    "gato_3 = Gato('Jamaica', 19)\n",
    "print('Gato 1\\n')\n",
    "gato_1.alimento.append(['Leche', 'carne', 'tosino'])\n",
    "gato_1.VerEtapaDeVida()\n",
    "print('\\nGato 2')\n",
    "gato_2.alimento.append(['Leche', 'carne', 'tosino'])\n",
    "gato_2.VerEtapaDeVida()\n",
    "\n",
    "gato_3.alimento.append(['Leche', 'carne', 'tosino'])\n",
    "gato_3.VerEtapaDeVida()"
   ]
  },
  {
   "cell_type": "code",
   "execution_count": 8,
   "metadata": {},
   "outputs": [
    {
     "output_type": "execute_result",
     "data": {
      "text/plain": [
       "[['Leche', 'carne', 'tosino'], 'Pescado']"
      ]
     },
     "metadata": {},
     "execution_count": 8
    }
   ],
   "source": [
    "gato_1.alimento.append('Pescado')\n",
    "gato_1.alimento"
   ]
  },
  {
   "cell_type": "code",
   "execution_count": null,
   "metadata": {},
   "outputs": [],
   "source": []
  }
 ]
}