{
 "metadata": {
  "language_info": {
   "codemirror_mode": {
    "name": "ipython",
    "version": 3
   },
   "file_extension": ".py",
   "mimetype": "text/x-python",
   "name": "python",
   "nbconvert_exporter": "python",
   "pygments_lexer": "ipython3",
   "version": "3.8.5-final"
  },
  "orig_nbformat": 2,
  "kernelspec": {
   "name": "python3",
   "display_name": "Python 3",
   "language": "python"
  }
 },
 "nbformat": 4,
 "nbformat_minor": 2,
 "cells": [
  {
   "source": [
    "import numpy as np\n",
    "import sympy as sym \n",
    "\n",
    "\n",
    "#INGRESO\n",
    "\n",
    "x = sym.Symbol('x')\n",
    "fx = sym.cos(x)\n",
    "\n",
    "x0 = 0\n",
    "n = 4\n",
    "\n",
    "#PROCEDIMIENTO\n",
    "\n",
    "k = 0\n",
    "polinomio = 0\n",
    "while not(k > n):\n",
    "    derivada = fx.diff(x, k)\n",
    "    derivadax0 = derivada.subs(x, x0)\n",
    "    divisor = np.math.factorial(k)\n",
    "    terminok = (derivadax0 / divisor)*(x-x0)**k\n",
    "\n",
    "    polinomio = polinomio + terminok\n",
    "    k = k+1\n",
    "\n",
    "print(polinomio)\n"
   ],
   "cell_type": "code",
   "metadata": {},
   "execution_count": 11,
   "outputs": [
    {
     "output_type": "stream",
     "name": "stdout",
     "text": [
      "x**4/24 - x**2/2 + 1\n"
     ]
    }
   ]
  },
  {
   "cell_type": "code",
   "execution_count": 1,
   "metadata": {},
   "outputs": [
    {
     "output_type": "error",
     "ename": "ModuleNotFoundError",
     "evalue": "No module named 'tabulate'",
     "traceback": [
      "\u001b[1;31m---------------------------------------------------------------------------\u001b[0m",
      "\u001b[1;31mModuleNotFoundError\u001b[0m                       Traceback (most recent call last)",
      "\u001b[1;32m<ipython-input-1-a133618dcf4a>\u001b[0m in \u001b[0;36m<module>\u001b[1;34m\u001b[0m\n\u001b[1;32m----> 1\u001b[1;33m \u001b[1;32mimport\u001b[0m \u001b[0mtabulate\u001b[0m \u001b[1;32mas\u001b[0m \u001b[0mtb\u001b[0m\u001b[1;33m\u001b[0m\u001b[1;33m\u001b[0m\u001b[0m\n\u001b[0m",
      "\u001b[1;31mModuleNotFoundError\u001b[0m: No module named 'tabulate'"
     ]
    }
   ],
   "source": [
    "import tabulate as tb\n",
    "\n",
    "\n"
   ]
  },
  {
   "cell_type": "code",
   "execution_count": 3,
   "metadata": {},
   "outputs": [
    {
     "output_type": "stream",
     "name": "stdout",
     "text": [
      "| 1| |  1| |   1|\n| 2| |  4| |   8|\n| 3| |  9| |  27|\n| 4| | 16| |  64|\n| 5| | 25| | 125|\n| 6| | 36| | 216|\n| 7| | 49| | 343|\n| 8| | 64| | 512|\n| 9| | 81| | 729|\n|10| |100| |1000|\n"
     ]
    }
   ],
   "source": [
    "# -*- coding: utf-8 -*-\n",
    "#\n",
    "#  format.py\n",
    "#\n",
    "for x in range(1,11):\n",
    "    print ('{3}{0:2d}{3} {3}{1:3d}{3} {3}{2:4d}{3}'.format(x, x * x, x * x * x, '|'))"
   ]
  },
  {
   "cell_type": "code",
   "execution_count": null,
   "metadata": {},
   "outputs": [],
   "source": []
  }
 ]
}