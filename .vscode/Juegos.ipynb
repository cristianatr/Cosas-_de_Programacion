{
 "metadata": {
  "language_info": {
   "codemirror_mode": {
    "name": "ipython",
    "version": 3
   },
   "file_extension": ".py",
   "mimetype": "text/x-python",
   "name": "python",
   "nbconvert_exporter": "python",
   "pygments_lexer": "ipython3",
   "version": "3.8.5-final"
  },
  "orig_nbformat": 2,
  "kernelspec": {
   "name": "python3",
   "display_name": "Python 3",
   "language": "python"
  }
 },
 "nbformat": 4,
 "nbformat_minor": 2,
 "cells": [
  {
   "cell_type": "code",
   "execution_count": 27,
   "metadata": {},
   "outputs": [
    {
     "output_type": "stream",
     "name": "stdout",
     "text": [
      "ahorcado 8\n"
     ]
    }
   ],
   "source": [
    "# Creamos nuestra palabra a adiminar\n",
    "PalabraSecreta = \"AHORCADO\" \n",
    "PalabraSecreta = PalabraSecreta.lower()  # Por si la persona ingresa mayusculas \n",
    "print(f'{PalabraSecreta} {len(PalabraSecreta)}')"
   ]
  },
  {
   "cell_type": "code",
   "execution_count": 6,
   "metadata": {
    "tags": []
   },
   "outputs": [
    {
     "output_type": "stream",
     "name": "stdout",
     "text": [
      "Hola cristian te tengo fe\n",
      " _____ \n",
      " |   | \n",
      " |     \n",
      " |     \n",
      " |     \n",
      " |     \n",
      "---    \n",
      "_ _ _ _ _ _ _ _ \n",
      "Letras Usadas: []\n",
      "Hola cristian te tengo fe\n",
      " _____ \n",
      " |   | \n",
      " |     \n",
      " |     \n",
      " |     \n",
      " |     \n",
      "---    \n",
      "a _ _ _ _ a _ _ \n",
      "Letras Usadas: ['a']\n",
      " _____ \n",
      " |   | \n",
      " |   o tranki so es la cabeza \n",
      " |     \n",
      " |     \n",
      " |     \n",
      "---    \n",
      "a _ _ _ _ a _ _ \n",
      "Letras Usadas: ['a', 'q']\n",
      " _____ \n",
      " |   | \n",
      " |   o uhh \n",
      " |   | \n",
      " |     \n",
      " |     \n",
      "---    \n",
      "a _ _ _ _ a _ _ \n",
      "Letras Usadas: ['a', 'q', 'qw']\n",
      " _____ \n",
      " |   | \n",
      " |   o aun te tengo fe cristian\n",
      " |   | \n",
      " |  /  \n",
      " |     \n",
      "---    \n",
      "a _ _ _ _ a _ _ \n",
      "Letras Usadas: ['a', 'q', 'qw', 'l']\n",
      " _____ \n",
      " |   | \n",
      " |   o Perdi la fe en vos cuando erraste en la primera\n",
      " |   | \n",
      " |  | |\n",
      " |     \n",
      "---    \n",
      "a _ _ _ _ a _ _ \n",
      "Letras Usadas: ['a', 'q', 'qw', 'l', '1']\n",
      " _____ \n",
      " |   | \n",
      " |   o Ya vali :´v \n",
      " |  /| \n",
      " |  | |\n",
      " |     \n",
      "---    \n",
      "a _ _ _ _ a _ _ \n",
      "Letras Usadas: ['a', 'q', 'qw', 'l', '1', 'p']\n",
      " _____ \n",
      " |   | \n",
      " |   o confie en vos cristian :c\n",
      " |  /|/\n",
      " |  | |\n",
      " |     \n",
      "---    \n",
      "Lo siento cristian pero el changuito murio\n",
      "Perdite!!\n"
     ]
    }
   ],
   "source": [
    "# Creamos nuestra palabra a adiminar\n",
    "Nombre =(input('Ingrese su nombre: '))\n",
    "PalabraSecreta = \"AHORCADO\" \n",
    "PalabraSecreta = PalabraSecreta.lower()  # Por si la persona ingresa mayusculas \n",
    "\n",
    "\n",
    "Errores = 0\n",
    "Progreso = []\n",
    "for i in range(len(PalabraSecreta)):\n",
    "    Progreso.append(\"_ \")\n",
    "    PalabraConEspacio = []\n",
    "    for char in PalabraSecreta:\n",
    "        PalabraConEspacio.append(char + ' ')\n",
    "\n",
    "    \n",
    "LetrasUsadas = []\n",
    "\n",
    "while Errores < 7:\n",
    "    if Errores == 0:\n",
    "        print(f'Hola {Nombre} soy el changuito y tengo fe para que me rescates [^-^]')\n",
    "        print(' _____ ')\n",
    "        print(' |   | ')\n",
    "        print(' |     ')\n",
    "        print(' |     ')\n",
    "        print(' |     ')\n",
    "        print(' |     ')\n",
    "        print('---    ')\n",
    "    elif Errores == 1:\n",
    "        print(' _____ ')\n",
    "        print(' |   | ')\n",
    "        print(f' |   o tranki so es la cabeza ')\n",
    "        print(' |     ')\n",
    "        print(' |     ')\n",
    "        print(' |     ')\n",
    "        print('---    ')\n",
    "    elif Errores == 2:\n",
    "        print(' _____ ')\n",
    "        print(' |   | ')\n",
    "        print(f' |   o uhh ')\n",
    "        print(' |   | ')\n",
    "        print(' |     ')\n",
    "        print(' |     ')\n",
    "        print('---    ')\n",
    "    elif Errores == 3:\n",
    "        print(' _____ ')\n",
    "        print(' |   | ')\n",
    "        print(f' |   o aun te tengo fe {Nombre}')\n",
    "        print(' |   | ')\n",
    "        print(' |  /  ')\n",
    "        print(' |     ')\n",
    "        print('---    ')\n",
    "    elif Errores == 4:\n",
    "        print(' _____ ')\n",
    "        print(' |   | ')\n",
    "        print(' |   o Perdi la fe en vos cuando erraste en la primera')\n",
    "        print(' |   | ')\n",
    "        print(' |  | |')\n",
    "        print(' |     ')\n",
    "        print('---    ')\n",
    "    elif Errores == 5:\n",
    "        print(' _____ ')\n",
    "        print(' |   | ')\n",
    "        print(' |   o Ya vali :´v ')\n",
    "        print(' |  /| ')\n",
    "        print(' |  | |')\n",
    "        print(' |     ')\n",
    "        print('---    ')\n",
    "    elif Errores == 6:\n",
    "        print(' _____ ')\n",
    "        print(' |   | ')\n",
    "        print(f' |   o confie en vos {Nombre} :c')\n",
    "        print(' |  /|/')\n",
    "        print(' |  | |')\n",
    "        print(' |     ')\n",
    "        print('---    ')\n",
    "        print(f'Lo siento {Nombre} pero el changuito murio')\n",
    "        print('Perdite!!')\n",
    "        break\n",
    "\n",
    "    print(''.join(Progreso))\n",
    "    print(f'Letras Usadas: {LetrasUsadas}')\n",
    "    Letra = input('Elija una Letra: ')\n",
    "    # Verificamos si la letras ingresado por el usuario esta o no\n",
    "    if Letra in LetrasUsadas:\n",
    "        print(f'{Nombre} letra ya la usaste...')\n",
    "\n",
    "    else:\n",
    "        LetrasUsadas.append(Letra)\n",
    "        HayError = True\n",
    "\n",
    "        for i in range(len(PalabraSecreta)):\n",
    "            if Letra == PalabraSecreta[i]:\n",
    "                Progreso[i] = Letra + ' '\n",
    "                # Si la palabra esta el la lista entonces HayError es falso\n",
    "                HayError = False\n",
    "        if HayError:\n",
    "            Errores += 1\n",
    "        if PalabraConEspacio == Progreso:\n",
    "            print(''.join(Progreso))\n",
    "            print(f'Felicitacion Ganaste {Nombre}')\n",
    "            break\n"
   ]
  },
  {
   "source": [
    "## Lista de palabras"
   ],
   "cell_type": "markdown",
   "metadata": {}
  },
  {
   "cell_type": "code",
   "execution_count": 29,
   "metadata": {},
   "outputs": [],
   "source": [
    "Palabras = [\n",
    "    'Pneumonoultramicroscopicsilicovolcanoconiosis',\n",
    "    'Hipopotomonstrosesquipedaliofobia ',\n",
    "    'Parangaricutirimícuaro',\n",
    "    'Superescalifragilisticoespialidos',\n",
    "    'Hexakosioihexekontahexafobia',\n",
    "    'Desanparangaricutirimicuarizador',\n",
    "    'Paralelepípedos',\n",
    "    'Zsoltbaumgartnerismo',\n",
    "    'Esternocleidomastoideo',\n",
    "    'Homopedonecrozoofílico',\n",
    "    'Neotromponolomeonilopolonouta',\n",
    "    'Dihidroxifenilalaninasa',\n",
    "    'Ugarterragaicoecheapaturri',\n",
    "    'Metilendioximetanfetamina',\n",
    "    'Caravincuntincuadrado',\n",
    "    'Octangolonoplasentaiconósico',\n",
    "    'Linfogranulomatosis',\n",
    "    'Narainkarthikeyanismo',\n",
    "    'Dimetilnitrosamina',\n",
    "    'inginalis']\n",
    "\n",
    "Pista = {\n",
    "\n",
    "    0: 'enfermedad pulmonar producida por la intoxicación de sílice ',\n",
    "    1: 'miedo irracional (o fobia) a la pronunciación de palabras largas y complicadas',\n",
    "    2: 'Parangaricutirimícuaro',\n",
    "    3: 'Superescalifragilisticoespialidos',\n",
    "    4: 'Hexakosioihexekontahexafobia',\n",
    "    5: 'Desanparangaricutirimicuarizador',\n",
    "    6: 'Paralelepípedos',\n",
    "    7: 'Zsoltbaumgartnerismo',\n",
    "    8: 'Esternocleidomastoideo',\n",
    "    9: 'Homopedonecrozoofílico',\n",
    "    10: 'Neotromponolomeonilopolonouta',\n",
    "    11: 'Dihidroxifenilalaninasa',\n",
    "    12: 'Ugarterragaicoecheapaturri',\n",
    "    13: 'Metilendioximetanfetamina',\n",
    "    14: 'Caravincuntincuadrado',\n",
    "    15: 'Octangolonoplasentaiconósico',\n",
    "    16: 'Linfogranulomatosis',\n",
    "    17: 'Narainkarthikeyanismo',\n",
    "    18: 'Dimetilnitrosamina',\n",
    "    19: 'inginalis'}\n",
    "\n"
   ]
  },
  {
   "cell_type": "code",
   "execution_count": 30,
   "metadata": {},
   "outputs": [
    {
     "output_type": "stream",
     "name": "stdout",
     "text": [
      "Pneumonoultramicroscopicsilicovolcanoconiosis\n"
     ]
    },
    {
     "output_type": "execute_result",
     "data": {
      "text/plain": [
       "'enfermedad pulmonar producida por la intoxicación de sílice '"
      ]
     },
     "metadata": {},
     "execution_count": 30
    }
   ],
   "source": [
    "import random as rd\n",
    "\n",
    "Opcion = 0 #rd.randint(1,len(Palabras))\n",
    "print(Palabras[Opcion])\n",
    "Pista[Opcion]"
   ]
  },
  {
   "cell_type": "code",
   "execution_count": 19,
   "metadata": {},
   "outputs": [
    {
     "output_type": "execute_result",
     "data": {
      "text/plain": [
       "'Hipopotomostrosesquipedaliofobia \\nPista: enfermedad pulmonar producida por la intoxicación de sílice'"
      ]
     },
     "metadata": {},
     "execution_count": 19
    }
   ],
   "source": [
    "Palabras[1]"
   ]
  },
  {
   "cell_type": "code",
   "execution_count": null,
   "metadata": {},
   "outputs": [],
   "source": []
  }
 ]
}